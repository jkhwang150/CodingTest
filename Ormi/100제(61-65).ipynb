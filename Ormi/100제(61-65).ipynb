{
  "nbformat": 4,
  "nbformat_minor": 0,
  "metadata": {
    "colab": {
      "provenance": [],
      "authorship_tag": "ABX9TyMlYNDrSHRbDjEfTKgf2+w7",
      "include_colab_link": true
    },
    "kernelspec": {
      "name": "python3",
      "display_name": "Python 3"
    },
    "language_info": {
      "name": "python"
    }
  },
  "cells": [
    {
      "cell_type": "markdown",
      "metadata": {
        "id": "view-in-github",
        "colab_type": "text"
      },
      "source": [
        "<a href=\"https://colab.research.google.com/github/jkhwang150/CodingTest/blob/main/Ormi/100%EC%A0%9C(61_65).ipynb\" target=\"_parent\"><img src=\"https://colab.research.google.com/assets/colab-badge.svg\" alt=\"Open In Colab\"/></a>"
      ]
    },
    {
      "cell_type": "code",
      "execution_count": null,
      "metadata": {
        "id": "n3mZfVd8VM7B"
      },
      "outputs": [],
      "source": [
        "# 61. 문자열 압축하기\n",
        "''' 문자열을 입력받고 연속되는 문자열을 압축해서 표현하고싶습니다.\n",
        "입력\n",
        "aaabbbbcdddd\n",
        "\n",
        "출력\n",
        "a3b4c1d4\n",
        " '''\n",
        "\n",
        "user_input = input()\n",
        "s = ''\n",
        "storeString = user_input[0]\n",
        "count = 0\n",
        "for i in user_input:\n",
        "    if i == storeString: # 같은 문자는 카운트\n",
        "        count += 1\n",
        "    else: # 다른 문자는 리셋하여 다시 for문을 돌\n",
        "        s += str(count) + storeString\n",
        "        storeString = i\n",
        "        count = 1\n",
        "s += str(count) + storeString\n",
        "print(s)"
      ]
    },
    {
      "cell_type": "code",
      "source": [
        "# 62. 20190923 출력하기\n",
        "''' `20190923`을 출력합니다.  아래 기준만 만족하면 됩니다.\n",
        "\n",
        "1. 코드 내에 숫자가 없어야 합니다.\n",
        "    - 예) print(20190923)이라고 하시면 안됩니다.\n",
        "2. 파일 이름이나 경로를 사용해서는 안됩니다.\n",
        "3. 시간, 날짜 함수를 사용해서는 안됩니다.\n",
        "4. 에러 번호 출력을 이용해서는 안됩니다.\n",
        "5. input을 이용해서는 안됩니다. '''\n",
        "\n",
        "# solution)\n",
        "string='aacddddddddd'\n",
        "a=string.count('a') #2\n",
        "b=string.count('b') #0\n",
        "c=string.count('c') #1\n",
        "d=string.count('d') #9\n",
        "print(int(str(a)+str(b)+str(c)+str(d)+str(b)+str(d)+str(a)+str(a+1)))"
      ],
      "metadata": {
        "id": "txa6pcDywjrA"
      },
      "execution_count": null,
      "outputs": []
    },
    {
      "cell_type": "code",
      "source": [
        "# 63. 친해지고 싶어\n",
        "''' 한국대학교의 김한국교수님은 학생들과 친해지기 위해서 딸에게 줄임말을 배우기로 했습니다.\n",
        "딸은 '복잡한 세상 편하게 살자' 라는 문장을 '복세편살'로 줄여 말합니다.\n",
        "\n",
        "교수님이 줄임말을 배우기 위해 위와 같이 어떤 입력이 주어지면 앞 글자만 줄여 출력하도록 해주세요. '''\n",
        "\n",
        "def short(s):\n",
        "    ns = s.split(' ')\n",
        "    print(ns)\n",
        "    answer = ''\n",
        "    for i in ns:\n",
        "        answer += i[0]\n",
        "\n",
        "    return answer\n",
        "s = input()\n",
        "short(s)\n"
      ],
      "metadata": {
        "id": "lNunbi_xxwal"
      },
      "execution_count": null,
      "outputs": []
    },
    {
      "cell_type": "code",
      "source": [
        "# 64. 이상한 엘레베이터\n",
        "''' 정량 N에 정확히 맞춰야만 움직이는 화물용 엘레베이터가 있습니다.\n",
        "화물은 7kg, 3kg 두 가지이며 팔이 아픈 은후는 가장 적게 화물을 옮기고 싶습니다.\n",
        "\n",
        "예를 들어 정량이 24kg이라면 3kg 8개를 옮기는 것 보다는\n",
        "7kg 3개, 3kg 1개 즉 4개로 더 적게 옮길 수 있습니다.\n",
        "\n",
        "입력\n",
        "정량 N이 입력됩니다.\n",
        "\n",
        "출력\n",
        "가장 적게 옮길 수 있는 횟수를 출력합니다.\n",
        "만약 어떻게 해도 정량이 N이 되지 않는다면 -1을 출력합니다.\n",
        " '''\n",
        "\n",
        " # solution)\n",
        "N = int(input())\n",
        "result = 0\n",
        "\n",
        "while True:\n",
        "    if N%7 ==0:\n",
        "        result += N//7\n",
        "        print(result)\n",
        "        break\n",
        "    N -= 3\n",
        "    result += 1\n",
        "    if N < 0:\n",
        "        print(-1)\n",
        "        break"
      ],
      "metadata": {
        "id": "Fjz2jyKC0BpV"
      },
      "execution_count": null,
      "outputs": []
    },
    {
      "cell_type": "code",
      "source": [
        "# 65. 변형된 리스트\n",
        "'''\n",
        "a = [1, 2, 3, 4]\n",
        "b = ['a', 'b', 'c', 'd']\n",
        "이런 리스트가 있을 때\n",
        "`[[1, 'a'], ['b', 2], [3, 'c'], ['d', 4]]` 이런식으로 a, b리스트가 번갈아가면서 출력되게 해주세요. '''\n",
        "\n",
        "# solution) zip 활용\n",
        "a = [1, 2, 3, 4]\n",
        "b = ['a', 'b', 'c', 'd']\n",
        "\n",
        "c = []\n",
        "count = 0\n",
        "for i, j in zip(a, b):\n",
        "\tif count % 2 == 0:\n",
        "\t\tc.append([i, j])\n",
        "\telse:\n",
        "\t\tc.append([j, i])\n",
        "\tcount += 1\n",
        "\n",
        "print(c)"
      ],
      "metadata": {
        "id": "oeRpiPH5AqjK"
      },
      "execution_count": null,
      "outputs": []
    }
  ]
}
