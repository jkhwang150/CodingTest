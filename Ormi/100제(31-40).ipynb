{
  "nbformat": 4,
  "nbformat_minor": 0,
  "metadata": {
    "colab": {
      "provenance": [],
      "authorship_tag": "ABX9TyN70/YLqqHk5DcFl8oHVhyP",
      "include_colab_link": true
    },
    "kernelspec": {
      "name": "python3",
      "display_name": "Python 3"
    },
    "language_info": {
      "name": "python"
    }
  },
  "cells": [
    {
      "cell_type": "markdown",
      "metadata": {
        "id": "view-in-github",
        "colab_type": "text"
      },
      "source": [
        "<a href=\"https://colab.research.google.com/github/jkhwang150/CodingTest/blob/main/Ormi/100%EC%A0%9C(31_40).ipynb\" target=\"_parent\"><img src=\"https://colab.research.google.com/assets/colab-badge.svg\" alt=\"Open In Colab\"/></a>"
      ]
    },
    {
      "cell_type": "code",
      "execution_count": null,
      "metadata": {
        "id": "ZPCLi5VWqj6R"
      },
      "outputs": [],
      "source": [
        "# 31. 파이썬 자료형의 복잡도\n",
        "''' 다음 리스트의 내장함수의 시간 복잡도가 O(1)이 아닌것은?\n",
        "\n",
        "1)  l[i]\n",
        "2)  l.append(5)\n",
        "3)  l[a:b]\n",
        "4)  l.pop()\n",
        "5)  l.clear() '''\n",
        "\n",
        "# solution) 3번 복잡도는O(n)이다"
      ]
    },
    {
      "cell_type": "code",
      "source": [
        "# 32. 문자열 만들기\n",
        "''' 취업 준비생인 혜림이는 자기소개서를 쓰고 있습니다.\n",
        "\n",
        "열심히 자기소개서를 작성하던 도중 혜림이는 자기가 지금까지 단어를 얼마나 적었는지 궁금하게 됩니다.\n",
        "\n",
        "혜림이를 위해 문자열을 입력받으면 단어의 갯수를 출력하는 프로그램을 작성해 주세요. '''\n",
        "\n",
        "# solution)\n",
        "s = list(input('문장을 입력해주세요 : ').split())\n",
        "\n",
        "print(len(s))"
      ],
      "metadata": {
        "id": "HLWU_hWQrEo1"
      },
      "execution_count": null,
      "outputs": []
    },
    {
      "cell_type": "code",
      "source": [
        "# 33. 거꾸로 출력하기\n",
        "''' 한 줄에 여러개의 숫자가 입력되면, 역순으로 그 숫자들을 하나씩 출력하는 프로그램을 작성하시오. '''\n",
        "\n",
        "# solution 1)\n",
        "nums = (input('숫자들을 입력하시오 : ').split())\n",
        "print(nums[::-1], sep =\" \")\n",
        "\n",
        "# solution 2)\n",
        "n = input()\n",
        "\n",
        "l = list(n.split())\n",
        "len1 = len(l) - 1\n",
        "for i in range(len1, -1, -1):\n",
        "\tprint(l[i], end=' ')"
      ],
      "metadata": {
        "id": "BD7GdWVIreyr"
      },
      "execution_count": null,
      "outputs": []
    },
    {
      "cell_type": "code",
      "source": [
        "# 34. sort 확인하기\n",
        "''' 민주는 체육부장으로 체육시간이 되면 반 친구들이 제대로 키 순서대로 모였는지를 확인해야 한다.\n",
        "\n",
        "그런데 요즘 민주는 그것이 너무 번거롭게 느껴져 한 번에 확인하고 싶어한다.\n",
        "\n",
        "민주를 위해 키가 주어지면 순서대로 제대로 섰는지 확인하는 프로그램을 작성해보자. '''\n",
        "\n",
        "tall = list(input('키들을 입력하시오. : ').split())\n",
        "\n",
        "tall2 = sorted(tall)\n",
        "\n",
        "if tall == tall2:\n",
        "    print('Yes')\n",
        "else:\n",
        "    print('No')"
      ],
      "metadata": {
        "id": "rAIhn3gNtBH-"
      },
      "execution_count": null,
      "outputs": []
    },
    {
      "cell_type": "code",
      "source": [
        "# 35. Factory 함수 사용하기\n",
        "''' 2제곱, 3제곱, 4제곱을 할 수 있는 Factory 함수를 만들려고 합니다.\n",
        "\n",
        "- <pass>에 코드를 작성하여 two함수를 완성하세요. '''\n",
        "def one(n):\n",
        "    def two(m):\n",
        "        # solution)\n",
        "        sq = m ** n\n",
        "        return sq\n",
        "    return two\n",
        "\n",
        "a = one(2)\n",
        "b = one(3)\n",
        "c = one(4)\n",
        "print(a(10))\n",
        "print(b(10))\n",
        "print(c(10))"
      ],
      "metadata": {
        "id": "nlLuwlddBkkl"
      },
      "execution_count": null,
      "outputs": []
    },
    {
      "cell_type": "code",
      "source": [
        "# 36. 구구단 출력하기\n",
        "''' 1~9까지의 숫자 중 하나를 입력하면 그 단의 구구단 결과를 한 줄에 출력하는 프로그램을 작성하세요. '''\n",
        "\n",
        "# solution\n",
        "n = int(input('1~9사이의 숫자를 입력하시오 : '))\n",
        "for i in range(1,10):\n",
        "    print(n * i, end=\" \")"
      ],
      "metadata": {
        "id": "QHv4dMpTEELB"
      },
      "execution_count": null,
      "outputs": []
    },
    {
      "cell_type": "code",
      "source": [
        "# 37. count 사용하기\n",
        "''' 새 학기를 맞아 호준이네 반은 반장 선거를 하기로 했습니다.\n",
        "\n",
        "그런데 표를 하나씩 개표하는 과정이 너무 번거롭게 느껴진 당신은 학생들이 뽑은\n",
        "\n",
        "후보들을 입력받으면 뽑힌 학생의 이름과 받은 표 수를 출력하는 프로그램을 작성하기로 하였습니다. '''\n",
        "\n",
        "# solution)\n",
        "p = list(input('후보를 입력하시오 : ').split())\n",
        "name = p[0] # 당선자\n",
        "n = p.count(p[1]) # 당선표수\n",
        "\n",
        "for i in range(1,len(p)):\n",
        "    if n < p.count(p[i]):\n",
        "        name = p[i]\n",
        "        n = p.count(p[i])\n",
        "\n",
        "print(\"{}이 총 {}표로 반장이 되었습니다.\".format(name,n))"
      ],
      "metadata": {
        "id": "LqR128LjEjox",
        "colab": {
          "base_uri": "https://localhost:8080/"
        },
        "outputId": "76036106-ba42-4373-b4de-67581ef21d47"
      },
      "execution_count": 4,
      "outputs": [
        {
          "output_type": "stream",
          "name": "stdout",
          "text": [
            "후보를 입력하시오 : 원범 원범 혜원 혜원 혜원 혜원 유진 유진\n",
            "혜원이 총 4표로 반장이 되었습니다.\n"
          ]
        }
      ]
    },
    {
      "cell_type": "code",
      "source": [
        "# 38. 호준이의 아르바이트\n",
        "''' 호준이는 아르바이트로 영어 학원에서 단어 시험지를 채점하는 일을 하고 있다.\n",
        "호준이가 일하는 학원은 매번 1위부터 3위까지의 학생에게 상으로 사탕을 준다.\n",
        "그런데 오늘은 마침 사탕이 다 떨어져서 호준이가 채점을 하고 점수를 보내면,\n",
        "당신이 아이들의 숫자만큼 사탕을 사러 가기로 했다.\n",
        "\n",
        "학생들의 점수를 공백으로 구분하여 입력받는다. 1위~ 3위 학생은 여러명일 수 있고\n",
        "1~3위 학생 중 중복되는 학생까지 포함하여 사탕을 사기로 한다.\n",
        "\n",
        "- 학생 수는 4명 이상입니다.\n",
        "- 숫자 외에 다른 값은 입력되지 않습니다. '''\n",
        "\n",
        "# solution)\n",
        "student = list((input('점수를 입력하시오 : ').split()))\n",
        "student.sort(reverse=True)\n",
        "student2 = list(set(student)) # 중복제거\n",
        "student2.sort(reverse=True)\n",
        "# 1등 점수 득점자 + 2등 점수 득점자 + 3등 점수 득점자\n",
        "n = student.count(student2[0]) + student.count(student2[1]) + student.count(student2[2])\n",
        "\n",
        "print(n)"
      ],
      "metadata": {
        "id": "z0-TYGnGvMH_"
      },
      "execution_count": null,
      "outputs": []
    },
    {
      "cell_type": "code",
      "source": [
        "# 39. 오타 수정하기\n",
        "''' 혜원이는 평소 영타가 빠르고 정확한 것을 친구들에게 자랑하고 다녔습니다.\n",
        "반 친구들이 혜원이의 타자 속도가 빠르다는 것을 모두 알게 되자 혜원이는 모두의 앞에서 타자 실력을 보여주게 됩니다.\n",
        "\n",
        "그런데 막상 보여주려니 긴장이 되서 문장의 모든 e를 q로, n을 b로 잘못 친 것을 발견했습니다.\n",
        "혜원이는 프로그램을 돌려 재빠르게 모든 q를 e로, b를 n으로 바꾸는 프로그램을 작성하려고 합니다.\n",
        "\n",
        "**문장이 입력되면 모든 q를 e로, b를 n으로 바꾸는 프로그램을 작성해 주세요.**\n",
        "\n",
        "- 완성하려는 문장 안에 q나 b가 들어가지 않는다고 가정합니다. '''\n",
        "\n",
        "s = input()\n",
        "\n",
        "print(s.replace('q','e').replace('b','n'))"
      ],
      "metadata": {
        "id": "NMjXpv69zAI3"
      },
      "execution_count": null,
      "outputs": []
    },
    {
      "cell_type": "code",
      "source": [
        "# 40. 놀이동산에 가자\n",
        "''' 테마파크에 온 원범이와 친구들은 놀이기구를 타려고 합니다.\n",
        "모든 놀이기구는 한번에 타는 인원수에는 제한이 없지만 제한 무게를 넘으면 무조건 다음 기구를 타야 합니다.\n",
        "\n",
        "**원범이와 친구들이 총 몇 명 탈 수 있는지 알 수 있는 프로그램을 작성해 주세요.**\n",
        "\n",
        "첫번째 줄에서 제한 무게가 주어지고 두번째 줄에서는 함께한 친구들의 수 n이 주어집니다.\n",
        "그 다음 차례대로 탑승할 친구들의 몸무게가 주어집니다. 몸무게는 무작위로 주어집니다.\n",
        "\n",
        "- 단, 놀이기구는 선착순으로만 탈 수 있습니다.\n",
        "- 두 명 이상의 인원이 항상 탑승합니다. '''\n",
        "\n",
        "# solution)\n",
        "total = 0\n",
        "count = 0\n",
        "limit = int(input('제한무게는 얼마인가요? : '))\n",
        "n = int(input('몇명이 탈 수 있나요? : '))\n",
        "\n",
        "for i in range(n):\n",
        "    total += int(input('몸무게를 입력해주세요 : '))\n",
        "    if total <= limit:\n",
        "        count += 1\n",
        "print(count)"
      ],
      "metadata": {
        "id": "UkXfqiOOzs35"
      },
      "execution_count": null,
      "outputs": []
    }
  ]
}
