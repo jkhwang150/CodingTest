{
  "nbformat": 4,
  "nbformat_minor": 0,
  "metadata": {
    "colab": {
      "provenance": [],
      "authorship_tag": "ABX9TyP71PieiFTEo7HBtxmHBYky",
      "include_colab_link": true
    },
    "kernelspec": {
      "name": "python3",
      "display_name": "Python 3"
    },
    "language_info": {
      "name": "python"
    }
  },
  "cells": [
    {
      "cell_type": "markdown",
      "metadata": {
        "id": "view-in-github",
        "colab_type": "text"
      },
      "source": [
        "<a href=\"https://colab.research.google.com/github/jkhwang150/CodingTest/blob/main/Ormi/100%EC%A0%9C(84-85).ipynb\" target=\"_parent\"><img src=\"https://colab.research.google.com/assets/colab-badge.svg\" alt=\"Open In Colab\"/></a>"
      ]
    },
    {
      "cell_type": "code",
      "execution_count": null,
      "metadata": {
        "colab": {
          "base_uri": "https://localhost:8080/"
        },
        "id": "dhRUBAcU9Z6g",
        "outputId": "70fc4f0b-b660-4d2a-8054-0b433ad44ba5"
      },
      "outputs": [
        {
          "output_type": "stream",
          "name": "stdout",
          "text": [
            "1723\n",
            "2\n",
            "['17', '12', '13', '71', '72', '73', '21', '27', '23', '31', '37', '32']\n",
            "73\n"
          ]
        }
      ],
      "source": [
        "# 84. 숫자 뽑기\n",
        "''' 소정이는 어떤 숫자에서 k개의 수를 뽑았을 때 가장 큰 수를 찾는 놀이를 하고 있습니다.\n",
        "\n",
        "예를 들어, 숫자 1723에서 두개의 수를 뽑으면 [17,12,13,72,73,23] 을 만들 수 있습니다.\n",
        "이 중 가장 큰 수는 73입니다.\n",
        "\n",
        "위 예시처럼 어떤 수 n개에서 k개의 수를 선택하여 만들 수 있는 수 중에서\n",
        "가장 큰 수를 찾아 주세요. '''\n",
        "\n",
        "# solution)\n",
        "from itertools import permutations\n",
        "\n",
        "user_input = input()\n",
        "k = int(input())\n",
        "l = [i for i in user_input]\n",
        "print(list(map(''.join, permutations(l, k))))\n",
        "print(max(list(map(''.join, permutations(l, k)))))"
      ]
    },
    {
      "cell_type": "code",
      "source": [
        "# 85. 숫자 놀이\n",
        "''' # 문제85 : 숫자 놀이\n",
        "\n",
        "일정한 규칙을 가지고있는 숫자를 나열하는 놀이를 하는 중입니다. 이전 숫자에서\n",
        "각 숫자의 갯수를 나타내어 숫자로 만들고 다시 그 숫자를 같은 규칙으로 만들며 나열 합니다.\n",
        "\n",
        "이 놀이는 1부터 시작합니다. 다음수는 1이 1개 이기때문에 '11'이 되고 '11'에서\n",
        "1이 2개이기때문에 그 다음은 '12'가 됩니다.\n",
        "\n",
        "즉,\n",
        "1. 1  → (1)\n",
        "2. 11 → (1이 1개)\n",
        "3. 12 → (1이 2개)\n",
        "4. 1121 → (1이 1개 2가 1개)\n",
        "5. 1321 → (1이 3개 2가 1개)\n",
        "6. 122131 → (1이 2개 2가 1개 3이 1개)\n",
        "7. 132231 → (1이 3개 2가 2개 3이 1개)\n",
        "\n",
        "위와 같이 진행되는 규칙을 통해 진행횟수 N을 입력받으면 해당되는 수를 출력하세요.\n",
        " '''"
      ],
      "metadata": {
        "id": "kVWQUnoI_VEu"
      },
      "execution_count": null,
      "outputs": []
    }
  ]
}