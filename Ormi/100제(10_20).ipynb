{
  "nbformat": 4,
  "nbformat_minor": 0,
  "metadata": {
    "colab": {
      "provenance": [],
      "authorship_tag": "ABX9TyP9AgOr+rlk3uLVQzE1+GWw",
      "include_colab_link": true
    },
    "kernelspec": {
      "name": "python3",
      "display_name": "Python 3"
    },
    "language_info": {
      "name": "python"
    }
  },
  "cells": [
    {
      "cell_type": "markdown",
      "metadata": {
        "id": "view-in-github",
        "colab_type": "text"
      },
      "source": [
        "<a href=\"https://colab.research.google.com/github/jkhwang150/CodingTest/blob/main/Ormi/100%EC%A0%9C(10_20).ipynb\" target=\"_parent\"><img src=\"https://colab.research.google.com/assets/colab-badge.svg\" alt=\"Open In Colab\"/></a>"
      ]
    },
    {
      "cell_type": "code",
      "execution_count": 1,
      "metadata": {
        "colab": {
          "base_uri": "https://localhost:8080/"
        },
        "id": "5YtNFPpqHoF1",
        "outputId": "eaf4ce33-7dda-4fab-ba31-6af800604d6c"
      },
      "outputs": [
        {
          "output_type": "stream",
          "name": "stdout",
          "text": [
            "5050\n"
          ]
        }
      ],
      "source": [
        "# 11. for를 이용한 기본 활용\n",
        "''' 1부터 100까지 모두 더하는 Code를 <pass> 부분에 완성하세요. for를 사용해야 합니다.\n",
        "s = 0\n",
        "<pass>\n",
        "print(s)\n",
        " '''\n",
        "\n",
        "# solution\n",
        "\n",
        "s = 0\n",
        "for i in range(1,101):\n",
        "    s += i\n",
        "print(s)"
      ]
    },
    {
      "cell_type": "code",
      "source": [
        "# 12. 게임 캐릭터 클래스 만들기\n",
        "''' 다음 소스코드에서 클래스를 작성하여 게임 캐릭터의 능력치와 '파이어볼'이 출력되게 만드시오.\n",
        "주어진 소스 코드를 수정해선 안됩니다.\n",
        "\n",
        "<여기에 class를 작성하세요.>\n",
        "\n",
        "jik = Wizard(health = 545, mana = 210, armor = 10)\n",
        "print(jik.health, jik.mana, jik.armor)\n",
        "jik.attack()\n",
        "​\n",
        "\n",
        ">> 출력예시\n",
        "545 210 10\n",
        "파이어볼\n",
        "'''\n",
        "class Wizard:\n",
        "    def __init__(self,health,mana,armor):\n",
        "        self.health = health\n",
        "        self.mana = mana\n",
        "        self.armor = armor\n",
        "    def attack(self):\n",
        "        print('파이어볼')\n",
        "\n",
        "jik = Wizard(health = 545, mana = 210, armor = 10)\n",
        "print(jik.health, jik.mana, jik.armor)\n",
        "jik.attack()"
      ],
      "metadata": {
        "colab": {
          "base_uri": "https://localhost:8080/"
        },
        "id": "Ol7gF-xRIId5",
        "outputId": "cf26f575-34da-4f8a-dc6e-abdd7a17088c"
      },
      "execution_count": 3,
      "outputs": [
        {
          "output_type": "stream",
          "name": "stdout",
          "text": [
            "545 210 10\n",
            "파이어볼\n"
          ]
        }
      ]
    },
    {
      "cell_type": "code",
      "source": [
        "# 13. 몇 번째 행성인가요?\n",
        "''' 우리 태양계를 이루고 있는 행성은 수성, 금성, 지구, 화성, 목성, 토성, 천왕성, 해왕성으로 총 8개 입니다. 저희는 우리 태양계의 n번째 행성이 무엇인지 알고 싶습니다.\n",
        "\n",
        "입력으로 행성의 순서를 나타내는 숫자 n이 입력됩니다. '''\n",
        "# solution\n",
        "planets = ['수성', '금성', '지구', '화성', '목성', '토성', '천왕성', '해왕성']\n",
        "\n",
        "n = int(input()) - 1\n",
        "print(planets[n])"
      ],
      "metadata": {
        "colab": {
          "base_uri": "https://localhost:8080/"
        },
        "id": "q1vWVCXyI9Yn",
        "outputId": "35bcd34a-50ab-49cb-ff39-5fb666ad0bf4"
      },
      "execution_count": 8,
      "outputs": [
        {
          "output_type": "stream",
          "name": "stdout",
          "text": [
            "3\n",
            "지구\n"
          ]
        }
      ]
    },
    {
      "cell_type": "code",
      "source": [
        "# 14. 3의 배수 인가요?\n",
        "''' 영희는 친구와 게임을 하고 있습니다. 서로 돌아가며 랜덤으로 숫자를 하나 말하고 그게 3의 배수이면 박수를 치고 아니면 그 숫자를 그대로 말하는 게임입니다.\n",
        "\n",
        "입력으로 랜덤한 숫자 n이 주어집니다.\n",
        "\n",
        "만약 그 수가 3의 배수라면 '짝'이라는 글자를, 3의 배수가 아니라면 n을 그대로 출력해 주세요. '''\n",
        "\n",
        "# solution\n",
        "n = int(input('숫자를 입력해주세요 : '))\n",
        "if n%3==0:\n",
        "    print('짝')\n",
        "else:\n",
        "    print(n)"
      ],
      "metadata": {
        "colab": {
          "base_uri": "https://localhost:8080/"
        },
        "id": "29yzcVUPLXbm",
        "outputId": "19cbdcfc-22f1-4bbe-fa91-7869008480e9"
      },
      "execution_count": 10,
      "outputs": [
        {
          "output_type": "stream",
          "name": "stdout",
          "text": [
            "숫자를 입력해주세요 : 3\n",
            "짝\n"
          ]
        }
      ]
    },
    {
      "cell_type": "code",
      "source": [
        "# 15. 자기소개\n",
        "''' 신학기가 시작되고, 아이들이 돌아가면서 자기소개를 하기로 했습니다.\n",
        "\n",
        "만약 입력으로 `김다정`이라는 이름이 주어지면\n",
        "안녕하세요. 저는 김다정입니다.\n",
        "라고 출력하게 해주세요.\n",
        "'''\n",
        "# solution > .format 메서드 이용\n",
        "name = input('이름을 입력해주세요 : ')\n",
        "print('안녕하세요. 저는 {}입니다.'.format(name))"
      ],
      "metadata": {
        "colab": {
          "base_uri": "https://localhost:8080/"
        },
        "id": "eBDBy-f-LcaD",
        "outputId": "bd32e1ec-50a6-4e49-92e8-9c247822a491"
      },
      "execution_count": 13,
      "outputs": [
        {
          "output_type": "stream",
          "name": "stdout",
          "text": [
            "이름을 입력해주세요 : 황진경\n",
            "안녕하세요. 저는 황진경입니다.\n"
          ]
        }
      ]
    },
    {
      "cell_type": "code",
      "source": [
        "# 16. 로꾸거\n",
        "''' 문장이 입력되면 거꾸로 출력하는 프로그램을 만들어 봅시다. '''\n",
        "\n",
        "# solution\n",
        "s = input('입력해주세요 : ')\n",
        "print(s[::-1])"
      ],
      "metadata": {
        "colab": {
          "base_uri": "https://localhost:8080/"
        },
        "id": "XMDAogiCMYm-",
        "outputId": "e2a8779d-8b8c-4858-eb6b-5d4ee25f965c"
      },
      "execution_count": 14,
      "outputs": [
        {
          "output_type": "stream",
          "name": "stdout",
          "text": [
            "입력해주세요 : 거꾸로\n",
            "로꾸거\n"
          ]
        }
      ]
    },
    {
      "cell_type": "code",
      "source": [
        "# 17. 놀이기구 키 제한\n",
        "''' 유주는 놀이공원 아르바이트 중입니다. 그런데 놀이기구마다 키 제한이 있습니다.\n",
        "유주가 담당하는 놀이기구는 키가 150 이상만 탈 수 있습니다.\n",
        "입력으로 키가 주어지면\n",
        "키가 150이 이상이면 YES를 틀리면 NO를 출력하는 프로그램을 작성하세요.\n",
        " '''\n",
        "\n",
        "# solution) 조건문 활용\n",
        "tall = int(input('키를 입력하시오 :'))\n",
        "if tall>=150:\n",
        "    print('YES')\n",
        "else:\n",
        "    print('NO')"
      ],
      "metadata": {
        "colab": {
          "base_uri": "https://localhost:8080/"
        },
        "id": "aSsdbJdIWFDT",
        "outputId": "d2326da8-fc30-442d-bcda-d13d0e798422"
      },
      "execution_count": 15,
      "outputs": [
        {
          "output_type": "stream",
          "name": "stdout",
          "text": [
            "키를 입력하시오 :150\n",
            "YES\n"
          ]
        }
      ]
    },
    {
      "cell_type": "code",
      "source": [
        "# 18. 평균 점수\n",
        "''' 영하네 반은 국어, 수학, 영어 시험을 보았습니다. 영하는 친구들의 평균 점수를 구해주기로 했습니다.\n",
        "\n",
        "공백으로 구분하여 세 과목의 점수가 주어지면\n",
        "전체 평균 점수를 구하는 프로그램을 작성하세요. 단, 소숫점 자리는 모두 버립니다. '''\n",
        "\n",
        "# solution) list자료형으로 공백을 기준으로 세 성적을 입력 받음. list(map(int, input('성적을 입력하시오.').split()))\n",
        "grade = list(map(int, input('성적을 입력하시오 : ').split()))\n",
        "score = sum(grade)//3\n",
        "print(score)"
      ],
      "metadata": {
        "colab": {
          "base_uri": "https://localhost:8080/"
        },
        "id": "xNrBRuBjcbVI",
        "outputId": "a7bee7b2-a1bb-4784-cd4d-fc585edce242"
      },
      "execution_count": 23,
      "outputs": [
        {
          "output_type": "stream",
          "name": "stdout",
          "text": [
            "성적을 입력하시오 : 13 14 16\n",
            "14\n"
          ]
        }
      ]
    },
    {
      "cell_type": "code",
      "source": [
        "# 19. 제곱을 구하자\n",
        "''' 공백으로 구분하여 두 숫자 a와 b가 주어지면, a의 b승을 구하는 프로그램을 작성하세요. '''\n",
        "# solution) split을 활용하여 공백으로 구분한다.\n",
        "num = list(map(int, input('두 수를 입력하시오(공백으로 구분) : ').split()))\n",
        "a = num[0]\n",
        "for i in range(1,num[1]):\n",
        "    a *= num[0]\n",
        "print(a)"
      ],
      "metadata": {
        "colab": {
          "base_uri": "https://localhost:8080/"
        },
        "id": "UKIFL0F3dtFN",
        "outputId": "a7fd2893-a854-4e59-985c-38b37798a011"
      },
      "execution_count": 31,
      "outputs": [
        {
          "output_type": "stream",
          "name": "stdout",
          "text": [
            "두 수를 입력하시오(공백으로 구분) : 2 3\n",
            "8\n"
          ]
        }
      ]
    },
    {
      "cell_type": "code",
      "source": [
        "# 20. 몫과 나머지\n",
        "''' 공백으로 구분하여 두 숫자가 주어집니다.\n",
        "첫번째 숫자로 두번째 숫자를 나누었을 때 그 몫과 나머지를 공백으로 구분하여 출력하세요. '''\n",
        "\n",
        "# solution\n",
        "num = list(map(int, input('두 수를 입력하시오(공백으로 구분) : ').split()))\n",
        "print(num[1]//num[0], num[1]%num[0], sep=' ')"
      ],
      "metadata": {
        "colab": {
          "base_uri": "https://localhost:8080/"
        },
        "id": "JFn3v_0fe60G",
        "outputId": "c1697e82-4371-493f-c32d-b361a62f78ef"
      },
      "execution_count": 33,
      "outputs": [
        {
          "output_type": "stream",
          "name": "stdout",
          "text": [
            "두 수를 입력하시오(공백으로 구분) : 2 5\n",
            "2 1\n"
          ]
        }
      ]
    }
  ]
}