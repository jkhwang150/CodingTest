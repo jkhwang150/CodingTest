{
  "nbformat": 4,
  "nbformat_minor": 0,
  "metadata": {
    "colab": {
      "provenance": [],
      "authorship_tag": "ABX9TyOOFTnPWpI45+teOsvxtA1E",
      "include_colab_link": true
    },
    "kernelspec": {
      "name": "python3",
      "display_name": "Python 3"
    },
    "language_info": {
      "name": "python"
    }
  },
  "cells": [
    {
      "cell_type": "markdown",
      "metadata": {
        "id": "view-in-github",
        "colab_type": "text"
      },
      "source": [
        "<a href=\"https://colab.research.google.com/github/jkhwang150/CodingTest/blob/main/Ormi/100%EC%A0%9C(76_80).ipynb\" target=\"_parent\"><img src=\"https://colab.research.google.com/assets/colab-badge.svg\" alt=\"Open In Colab\"/></a>"
      ]
    },
    {
      "cell_type": "code",
      "execution_count": null,
      "metadata": {
        "id": "HETGu9-u7AOZ"
      },
      "outputs": [],
      "source": [
        "# 76. 안전한땅\n",
        "''' 가장 먼저 테스트 케이스의 수를 나타내는 1이상 100 이하의 자연수가 주어집니다.\n",
        "각 테스트 케이스의 첫 줄에는 수색할 도시의 크기 a와 수색반이 한번에 수색 가능한\n",
        "범위 b가 주어집니다. (a와 b 모두 정사각형의 가로 또는 세로를 나타냅니다.\n",
        "예를들어 10이 주어지면 10x10칸의 크기를 나타냅니다.)\n",
        "\n",
        "그 후 a줄에 걸쳐 도시 내 지뢰가 있는지의 여부가 나타납니다.\n",
        "0은 지뢰가 없음 1은 지뢰가 있음을 뜻합니다.\n",
        "\n",
        "각 테스트 케이스에 대해 수색 가능한 범위 bxb 내에서 찾아낼 수 있는 가장 큰 지뢰의\n",
        "갯수를 구하세요.\n",
        " '''\n",
        "\n",
        "import numpy as np\n",
        "\n",
        "사각형 = 5\n",
        "탐색가능지역 = 3\n",
        "\n",
        "지뢰밭 = [[1, 0, 0, 1, 0],\n",
        "          [0, 1, 0, 0, 1],\n",
        "          [0, 0, 0, 1, 0],\n",
        "          [0, 0, 0, 0, 0],\n",
        "          [0, 0, 1, 0, 0]]\n",
        "\n",
        "s = 0\n",
        "for i in range(사각형 - 탐색가능지역 + 1):\n",
        "    for j in range(탐색가능지역):\n",
        "        if np.sum(지뢰밭[i:탐색가능지역+i, j:탐색가능지역+j]) > s:\n",
        "            s = np.sum(지뢰밭[i:탐색가능지역+i, j:탐색가능지역+j])\n",
        "print(s)"
      ]
    },
    {
      "cell_type": "code",
      "source": [
        "# 77. 가장 긴 공통 부분 문자열\n",
        "''' 가장 긴 공통 부분 문자열(Longest Common Subsequence)이란 A, B 두 문자열이 주어졌을 때\n",
        "두 열에 공통으로 들어 있는 요소로 만들 수 있는 가장 긴 부분열을 말합니다.\n",
        "여기서 부분열이란 다른 문자열에서 몇몇의 문자가 빠져 있어도 순서가 바뀌지 않은 열을 말합니다.\n",
        "\n",
        "예를 들어 S1 = ['T', 'H', 'E', 'S', 'T', 'R', 'I', 'N', 'G', 'S']  S2 = ['T', 'H', 'I', 'S', 'I', 'S']라는 두 문자열이 있을 때\n",
        "둘 사이의 부분 공통 문자열의 길이는 ['T', 'H', 'S', 'T', 'I', 'S'] 의 6개가 됩니다.\n",
        "\n",
        "이처럼 두 문자열이 주어지면 가장 긴 부분 공통 문자열의 길이를 반환하는 프로그램을 만들어 주세요.\n",
        " '''\n",
        " # solution\n",
        "\n",
        "def sol(strings):\n",
        "    result = []\n",
        "    for i in range(1,len(strings)+1):\n",
        "        for j in range(i):\n",
        "            result.append(strings[j:j+len(strings)-i+1])\n",
        "    return result\n",
        "\n",
        "input1 = input()\n",
        "input2 = input()\n",
        "#문자열 나열될 수 있는 모든 경우의수 만들기\n",
        "list1 = set(sol(input1))\n",
        "list2 = set(sol(input2))\n",
        "#경우의 수 교집합\n",
        "answers = list1.intersection(list2)\n",
        "# 가장 긴 교집합\n",
        "answer = max(answers,key=len)\n",
        "print(len(answer))\n"
      ],
      "metadata": {
        "id": "D9HBJXuz79Gw"
      },
      "execution_count": null,
      "outputs": []
    },
    {
      "cell_type": "code",
      "source": [
        "#78. 원형 테이블\n",
        "''' 입력은 2개의 정수로 이루어지며 공백으로 구분되어 입력됩니다.\n",
        "첫번째 숫자가 음식의 개수 N, 두번째 숫자가 K입니다.\n",
        "첫번째 가져가는 음식이 K이며 나머지는 첫번째 음식으로부터 시계방향으로 가져갑니다.\n",
        "\n",
        "입력\n",
        "6 3\n",
        "\n",
        "\n",
        "남은 음식들의 번호를 리스트 형태로 출력합니다.\n",
        "출력\n",
        "[3, 5]\n",
        " '''\n",
        "\n",
        " # solution)\n",
        "a = input().split(' ')\n",
        "n, k = a\n",
        "\n",
        "\n",
        "def sol(n, k):\n",
        "    i = 0\n",
        "    #q에 n만큼의 숫자를 넣어준다\n",
        "    q = [i for i in range(1,n+1)]\n",
        "\n",
        "    while len(q) > 2:\n",
        "        if i > len(q)-1:\n",
        "        #순환하다 i가 q의 길이보다 클 경우에 len(q)만큼 빼준다.\n",
        "        #[1,2,3,4,5,6] -> 1다음 4가 빠지고 그 다음은 4+3 = 7(index : 6)이 빠져야 하는데\n",
        "        #i(현재 빠져야 할 index)가 len(q)보다 크므로 len(q)즉, 4를 빼준다.\n",
        "        #이걸 마지막 2개가 남을 때 까지 반복함\n",
        "            i -= len(q)\n",
        "        q.pop(i)\n",
        "        i += k\n",
        "        i -= 1\n",
        "    print(q)\n",
        "sol(int(n),int(k)"
      ],
      "metadata": {
        "id": "Udty87fu-N8I"
      },
      "execution_count": null,
      "outputs": []
    },
    {
      "cell_type": "code",
      "source": [
        "# 79. 순회하는 리스트\n",
        "''' 다음의 값이 주어졌을 때\n",
        "\n",
        "l = [10, 20, 25, 27, 34, 35, 39]\n",
        "\n",
        "n번 순회를 결정합니다. 예를 들어 2번 순회면\n",
        "\n",
        "l = [35, 39, 10, 20, 25, 27, 34]\n",
        "\n",
        "여기서 변하기 전 원소와 변한 후 원소의 값의 차가 가장 작은 값을 출력하는 프로그램을 작성하세요.\n",
        "\n",
        "예를 들어 2번 순회했을 때 변하기 전의 리스트와 변한 후의 리스트의 값은 아래와 같습니다.\n",
        "\n",
        "순회전_리스트 = [10, 20, 25, 27, 34, 35, 39]\n",
        "순회후_리스트 = [35, 39, 10, 20, 25, 27, 34]\n",
        "리스트의_차 = [25, 19, 15, 7, 9, 8, 5]\n",
        "\n",
        "39와 변한 후의 34 값의 차가 5이므로 리스트의 차 중 최솟값 입니다.\n",
        "따라서 39와 34의 인덱스인 6과 39와 34를 출력하는 프로그램을 만들어주세요. '''\n",
        "\n",
        "# my solution)\n",
        "l = [10, 20, 25, 27, 34, 35, 39] #기존 입력 값\n",
        "n = int(input('순회 횟수는 :'))\n",
        "\n",
        "def rotate(inL, inN):\n",
        "    newL = []\n",
        "    first = 0\n",
        "    for i in range(0,len(inL)):\n",
        "\n",
        "        if i+inN >= len(inL):\n",
        "            newL.insert(first,inL[i])\n",
        "            first +=1\n",
        "        else:\n",
        "            newL.append(inL[i])\n",
        "    answer = abs(inL[0]- newL[0])\n",
        "    index = 0\n",
        "    for i in range(0,len(inL)):\n",
        "        if answer >= abs(inL[i]-newL[i]):\n",
        "            answer = abs(inL[i]-newL[i])\n",
        "            index = inL.index(inL[i])\n",
        "        else:\n",
        "            continue\n",
        "    return index,inL[index],newL[index]\n",
        "\n",
        "rotate(l, n)\n",
        "# answer\n",
        "def sol(a, t):\n",
        "    b = a.copy()\n",
        "    c = []\n",
        "    for i in range(t):\n",
        "        b.insert(0,b.pop())\n",
        "    for i,j in zip(a,b):\n",
        "        c.append(abs(i-j))\n",
        "    index = c.index(min(c))\n",
        "    print(\"index :\",index)\n",
        "    print(\"value :\",a[index],b[index])\n",
        "\n",
        "sol(l,n)"
      ],
      "metadata": {
        "colab": {
          "base_uri": "https://localhost:8080/"
        },
        "id": "YWosAFOAeC2S",
        "outputId": "6d62954b-ae5c-4c12-d4eb-614bd3ff886d"
      },
      "execution_count": 14,
      "outputs": [
        {
          "output_type": "stream",
          "name": "stdout",
          "text": [
            "순회 횟수는 :2\n",
            "index : 6\n",
            "value : 39 34\n"
          ]
        }
      ]
    },
    {
      "cell_type": "code",
      "source": [
        "# 80. 순열과 조합\n",
        "''' 한글의 자모 24자 중 자음은 총 14개 입니다.\n",
        "이 중 입력받은 자음을 n개를 선택하여\n",
        " 나올 수 있는 모든 조합과, 조합의 수를 출력하고 싶습니다.\n",
        " <--요구조건-->\n",
        "1. 첫 줄에 선택할 한글 자음이 주어집니다.\n",
        "2. 두번째 줄에 조합의 수가 주어집니다.\n",
        "3. 주어진 조합의 수에 따라 조합과 조합의 수를 출력해주세요.'''\n",
        "\n",
        "from itertools import permutations\n",
        "from itertools import combinations\n",
        "\n",
        "import itertools\n",
        "\n",
        "user_input = input().split(',')\n",
        "user_input_int = int(input())\n",
        "\n",
        "#print(list(itertools.combinations(a, 3)))\n",
        "\n",
        "print(list(map(''.join, combinations(user_input, user_input_int))))"
      ],
      "metadata": {
        "colab": {
          "base_uri": "https://localhost:8080/"
        },
        "id": "4faGUx4lhgZ1",
        "outputId": "52288c5e-38d7-4188-ea80-66a0368fa761"
      },
      "execution_count": 15,
      "outputs": [
        {
          "output_type": "stream",
          "name": "stdout",
          "text": [
            "ㄱ,ㄴ,ㅇ,ㄷ,ㄹ\n",
            "4\n",
            "['ㄱㄴㅇㄷ', 'ㄱㄴㅇㄹ', 'ㄱㄴㄷㄹ', 'ㄱㅇㄷㄹ', 'ㄴㅇㄷㄹ']\n"
          ]
        }
      ]
    }
  ]
}
