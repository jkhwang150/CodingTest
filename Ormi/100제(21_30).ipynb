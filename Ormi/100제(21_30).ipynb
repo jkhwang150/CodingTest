{
  "nbformat": 4,
  "nbformat_minor": 0,
  "metadata": {
    "colab": {
      "provenance": [],
      "authorship_tag": "ABX9TyNpt1rhtJ+GTfLb8qhJrsJI",
      "include_colab_link": true
    },
    "kernelspec": {
      "name": "python3",
      "display_name": "Python 3"
    },
    "language_info": {
      "name": "python"
    }
  },
  "cells": [
    {
      "cell_type": "markdown",
      "metadata": {
        "id": "view-in-github",
        "colab_type": "text"
      },
      "source": [
        "<a href=\"https://colab.research.google.com/github/jkhwang150/CodingTest/blob/main/Ormi/100%EC%A0%9C(21_30).ipynb\" target=\"_parent\"><img src=\"https://colab.research.google.com/assets/colab-badge.svg\" alt=\"Open In Colab\"/></a>"
      ]
    },
    {
      "cell_type": "code",
      "execution_count": null,
      "metadata": {
        "id": "fV8l0h2HC8xD"
      },
      "outputs": [],
      "source": [
        "# 21. set은 어떻게 만드나요?\n",
        "''' 다음 중 set을 만드는 방법이 아닌 것?\n",
        "\n",
        "1)  x = {1, 2, 3, 5, 6, 7}\n",
        "2)  x = {}\n",
        "3)  x = set('python')\n",
        "4)  x = set(range(5))\n",
        "5)  x = set() '''\n",
        "\n",
        "# solution) 2번은 딕셔너리 자료형이다."
      ]
    },
    {
      "cell_type": "code",
      "source": [
        "# 22. 배수인지 확인하기\n",
        "''' 다음 중 변수 i가 6의 배수인지 확인하는 방법으로 올바른 것은?\n",
        "1)  i / 6 == 0\n",
        "2)  i % 6 == 0\n",
        "3)  i & 6 == 0\n",
        "4)  i | 6 == 0\n",
        "5)  i // 6 == 0'''\n",
        "\n",
        "# solution) 2번 나머지가 0이므로 배수이다."
      ],
      "metadata": {
        "id": "z_B3k-JXKpw8"
      },
      "execution_count": null,
      "outputs": []
    },
    {
      "cell_type": "code",
      "source": [
        "# 23. OX문제\n",
        "\n",
        "''' print(10/2)의 출력 결과는 5이다. '''\n",
        "# solution) x > 5.0이다."
      ],
      "metadata": {
        "id": "VPdYD43YK6Su"
      },
      "execution_count": null,
      "outputs": []
    },
    {
      "cell_type": "code",
      "source": [
        "# 24. 대문자로 바꿔주세요!\n",
        "''' 민지는 국제 포럼에서 아르바이트를 하게 되었습니다. 민지는 각 국에서 온 참가자들의 명단을 엑셀로 정리하고 있는데\n",
        "참가자들 이름이 어떤 이는 전부 소문자, 어떤 이는 전부 대문자로 써져 있는 등 형식이 제각각이었습니다.\n",
        "민지를 위해 이름이 입력되면 전부 대문자로 출력되는 프로그램을 만들어주세요. '''\n",
        "\n",
        "# solution)\n",
        "name = input('이름을 입력해주세요 : ')\n",
        "print(name.upper())"
      ],
      "metadata": {
        "id": "n_6uH8Z0LRsL"
      },
      "execution_count": null,
      "outputs": []
    },
    {
      "cell_type": "code",
      "source": [
        "# 25. 원의 넓이를 구하세요.\n",
        "''' 원의 넓이는 반지름의 길이 x 반지름의 길이 x 3.14로 구할 수 있습니다.\n",
        "함수를 사용하여 원의 넓이를 구하는 코드를 작성해봅시다.\n",
        "\n",
        "입력을 반지름의 길이로 정수 n이 주어지면 원의 넓이를 반환하는 함수를 만들어 주세요.\n",
        "(입력을 해야하기 때문에 input을 반드시 사용해야합니다)\n",
        " '''\n",
        " # solution)\n",
        "def radius(r):\n",
        "    return r*r*3.14\n",
        "\n",
        "r = int(input('반지름을 입력해주세요. : '))\n",
        "radius(100)"
      ],
      "metadata": {
        "id": "2Epe7F93Lnkj"
      },
      "execution_count": null,
      "outputs": []
    },
    {
      "cell_type": "code",
      "source": [
        "# 26. 행성 문제2\n",
        "''' 우리 태양계를 이루는 행성은 수성, 금성, 지구, 화성, 목성, 토성, 천왕성, 해왕성이 있습니다.\n",
        "이 행성들의 영어 이름은 Mercury, Venus, Earth, Mars, Jupiter, Saturn, Uranus, Neptune입니다.\n",
        "\n",
        "행성의 한글 이름을 입력하면 영어 이름을 반환하는 프로그램을 만들어 주세요. '''\n",
        "# solution 1) 인덱스를 이용한 풀이\n",
        "s = input()\n",
        "korean = ['수성', '금성', '지구', '화성', '목성','토성', '천왕성', '해왕성']\n",
        "engl = ['Mercury', 'Venus', 'Earth', 'Mars', 'Jupiter', 'Saturn', 'Uranus', 'Neptune']\n",
        "print(engl[korean.index(s)])\n",
        "\n",
        "# solution 2) dictionary를 이용한 풀이\n",
        "planets = {\n",
        "\t'수성' : 'Mercury',\n",
        "\t'금성' : 'Venus',\n",
        "\t'지구' : 'Earth',\n",
        "\t'화성' : 'Mars',\n",
        "\t'목성' : 'Jupiter',\n",
        "\t'토성' : 'Saturn',\n",
        "\t'천왕성' : 'Uranus',\n",
        "\t'해왕성' : 'Neptune',\n",
        "}\n",
        "\n",
        "name = input()\n",
        "print(planets[name])"
      ],
      "metadata": {
        "id": "Ng-WtGDhM2UC"
      },
      "execution_count": null,
      "outputs": []
    },
    {
      "cell_type": "code",
      "source": [
        "# 27. 딕셔너리 만들기\n",
        "''' 첫 줄에는 학생의 이름이 공백으로 구분되어 입력되고,\n",
        "두번째 줄에는 그 학생의 수학 점수가 공백으로 구분되어 주어집니다.\n",
        "두 개를 합쳐 학생의 이름이 key이고 value가 수학 점수인 딕셔너리를 출력해주세요. '''\n",
        "\n",
        "# solution)\n",
        "name = input('이름을 입력하시오 : ').split()\n",
        "score = input('점수를 입력하시오 : ').split()\n",
        "print(dict(zip(name,score)))"
      ],
      "metadata": {
        "id": "EcG0glR4M35Z"
      },
      "execution_count": null,
      "outputs": []
    },
    {
      "cell_type": "code",
      "source": [
        "# 28. 2-gram\n",
        "''' 2-gram이란 문자열에서 2개의 연속된 요소를 출력하는 방법입니다.\n",
        "예를 들어 'Python'을 2-gram으로 반복해 본다면 다음과 같은 결과가 나옵니다.\n",
        "Py\n",
        "yt\n",
        "th\n",
        "ho\n",
        "on\n",
        " '''\n",
        "\n",
        " # solution)\n",
        "s = input('문자를 입력하시오 : ')\n",
        "\n",
        "for i in range(0,len(s)-1):\n",
        "    print(s[i]+s[i+1])"
      ],
      "metadata": {
        "id": "M90BpTtePNds"
      },
      "execution_count": null,
      "outputs": []
    },
    {
      "cell_type": "code",
      "source": [
        "# 29. 대문자만 지나가세요\n",
        "''' 진구는 영어 학원 아르바이트를 하고 있습니다. 반 아이들은 알파벳을 공부하는 학생들인데\n",
        "\n",
        "오늘은 대문자 쓰기 시험을 봤습니다.\n",
        "\n",
        "알파벳 하나만을 입력하고 그 알파벳이 대문자이면 YES를 아니면 NO를 출력하는 프로그램을 만들어 주세요.\n",
        "\n",
        "→ 알파벳 여러개를 입력하고 여러개 입력한 것 중 대문자만 출력해주는 프로그램도 만들어보세요. '''\n",
        "\n",
        "# solution) 문자 끼리 크기 비교 / .isupper() 메서드\n",
        "s = input('알파벳을 입력하시오 : ')\n",
        "if 'A'<= s <='Z':  # s.isupper()으로도 가능\n",
        "    print('YES')\n",
        "else:\n",
        "    print('NO')"
      ],
      "metadata": {
        "id": "g_05xkwfRV9x"
      },
      "execution_count": null,
      "outputs": []
    },
    {
      "cell_type": "code",
      "source": [
        "# 30.문자열 속 문자 찾기\n",
        "''' 문자 pineapple에는 apple이라는 문자가 숨어 있습니다.\n",
        "원범이는 이렇듯 문자열 속에 숨어있는 문자를 찾아보려고 합니다.\n",
        "\n",
        "입력으로 첫 줄에 문자열이 주어지고 둘째 줄에 찾을 문자가 주어지면\n",
        "그 문자가 시작하는 index를 반환하는 프로그램을 만들어 주세요\n",
        " '''\n",
        "\n",
        " # solution) .find('요소') 메서드를 사용하면 인덱스를 알 수 있다.\n",
        "\n",
        "data = input()\n",
        "word = input()\n",
        "\n",
        "print(data.find(word))"
      ],
      "metadata": {
        "id": "YryIyaOQZq1p"
      },
      "execution_count": null,
      "outputs": []
    }
  ]
}