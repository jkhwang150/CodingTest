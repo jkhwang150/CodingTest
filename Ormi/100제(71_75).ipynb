{
  "nbformat": 4,
  "nbformat_minor": 0,
  "metadata": {
    "colab": {
      "provenance": [],
      "authorship_tag": "ABX9TyPuUcV1m61BhIqEgWphBIqV",
      "include_colab_link": true
    },
    "kernelspec": {
      "name": "python3",
      "display_name": "Python 3"
    },
    "language_info": {
      "name": "python"
    }
  },
  "cells": [
    {
      "cell_type": "markdown",
      "metadata": {
        "id": "view-in-github",
        "colab_type": "text"
      },
      "source": [
        "<a href=\"https://colab.research.google.com/github/jkhwang150/CodingTest/blob/main/Ormi/100%EC%A0%9C(71_75).ipynb\" target=\"_parent\"><img src=\"https://colab.research.google.com/assets/colab-badge.svg\" alt=\"Open In Colab\"/></a>"
      ]
    },
    {
      "cell_type": "code",
      "execution_count": 1,
      "metadata": {
        "colab": {
          "base_uri": "https://localhost:8080/"
        },
        "id": "RQW5uPj6UDso",
        "outputId": "48277f73-97db-4eb1-9d48-141b4fc13cd0"
      },
      "outputs": [
        {
          "output_type": "stream",
          "name": "stdout",
          "text": [
            "['E', 'A', 'C', 'B', 'D', 'F']\n"
          ]
        }
      ],
      "source": [
        "# 71. 깊이 우선 탐색\n",
        "''' **깊이 우선 탐색**이란 목표한 노드를 찾기 위해 가장 우선순위가 높은 노드의\n",
        "자식으로 깊이 들어 갔다가 목표 노드가 존재하지 않으면 처음 방문한 노드와 연결된\n",
        "다른 노드부터 그 자식 노드로 파고드는 검색 방법을 말합니다.\n",
        "\n",
        "\n",
        "\n",
        "다음과 같이 리스트 형태로 노드들의 연결 관계가 주어진다고 할 때 깊이 우선 탐색으로\n",
        "이 노드들을 탐색했을 때의 순서를 공백으로 구분하여 출력하는 프로그램을 완성하세요.\n",
        "\n",
        "1. **빨간색으로 Pass라고 되어 있는 부분을 완성**해주세요.\n",
        "\n",
        "2. **깊이 우선 탐색을 오른쪽, 왼쪽 둘 다 구현**해보세요.\n",
        "\n",
        "3. **리스트**로도 구현해보세요. '''\n",
        "\n",
        "''' 1. 데이터\n",
        "\n",
        "graph = {'E': set(['D', 'A']),\n",
        "         'F': set(['D']),\n",
        "         'A': set(['E', 'C', 'B']),\n",
        "         'B': set(['A']),\n",
        "         'C': set(['A']),\n",
        "         'D': set(['E','F'])}\n",
        "\n",
        "2. 출력\n",
        "['E', 'A', 'B', 'C', 'D', 'F']\n",
        " '''\n",
        "# solution)\n",
        "\n",
        "graph = {\n",
        "        'A': set(['B', 'C', 'E']),\n",
        "        'B': set(['A']),\n",
        "        'C': set(['A']),\n",
        "        'D': set(['E', 'F']),\n",
        "        'E': set(['A', 'D']),\n",
        "        'F': set(['D'])\n",
        "}\n",
        "\n",
        "def dfs(graph, start):\n",
        "    visited = []\n",
        "    stack = [start]\n",
        "\n",
        "    while stack:\n",
        "        n = stack.pop()\n",
        "        if n not in visited:\n",
        "            visited.append(n)\n",
        "            stack += graph[n] - set(visited)\n",
        "    return visited\n",
        "\n",
        "print(dfs(graph, 'E'))\n",
        "\n",
        "''' tree = {\n",
        "        'A': ['B', 'C', 'E'],\n",
        "        'B': ['A'],\n",
        "        'C': ['A'],\n",
        "        'D': ['E', 'F'],\n",
        "        'E': ['A', 'D'],\n",
        "        'F': ['D']\n",
        "}\n",
        "\n",
        "def dfs(data, start):\n",
        "    visited = []\n",
        "    stack = [start]\n",
        "\n",
        "    pass\n",
        "\n",
        "    return visited\n",
        "\n",
        "print(dfs(tree, 'E')) '''"
      ]
    },
    {
      "cell_type": "code",
      "source": [
        "# 75. 이상한 369\n",
        "\n",
        "''' 369 게임을 하는데 조금 이상한 규칙이 있습니다. 3이나 6, 9 일 때만 박수를 쳐야합니다.\n",
        "예를 들어 13, 16과 같이 3과 6, 9 만으로 된 숫자가 아닐 경우엔 박수를 치지 않습니다.\n",
        "수현이는 박수를 몇 번 쳤는지 확인하고 싶습니다.\n",
        "36일 때 박수를 쳤다면 박수를 친 횟수는 5번입니다.\n",
        "\n",
        "n을 입력하면 박수를 몇 번 쳤는지 그 숫자를 출력해주세요. '''"
      ],
      "metadata": {
        "id": "fmuhE97BbNIt"
      },
      "execution_count": null,
      "outputs": []
    }
  ]
}