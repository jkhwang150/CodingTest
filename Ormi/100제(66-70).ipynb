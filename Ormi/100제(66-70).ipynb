{
  "nbformat": 4,
  "nbformat_minor": 0,
  "metadata": {
    "colab": {
      "provenance": [],
      "authorship_tag": "ABX9TyPhBwq9bLk0qoPb32mqPeo3",
      "include_colab_link": true
    },
    "kernelspec": {
      "name": "python3",
      "display_name": "Python 3"
    },
    "language_info": {
      "name": "python"
    }
  },
  "cells": [
    {
      "cell_type": "markdown",
      "metadata": {
        "id": "view-in-github",
        "colab_type": "text"
      },
      "source": [
        "<a href=\"https://colab.research.google.com/github/jkhwang150/CodingTest/blob/main/Ormi/100%EC%A0%9C(66_70).ipynb\" target=\"_parent\"><img src=\"https://colab.research.google.com/assets/colab-badge.svg\" alt=\"Open In Colab\"/></a>"
      ]
    },
    {
      "cell_type": "code",
      "execution_count": null,
      "metadata": {
        "id": "dgFn0shtPxVX"
      },
      "outputs": [],
      "source": [
        "# 66. 블럭탑쌓기\n",
        "''' 탑을 쌓기 위해 각 크기별로 준비된 블럭들을 정해진 순서에 맞게 쌓아햐 합니다.\n",
        "순서에 맞게 쌓지 않으면 무너질 수 있습니다.\n",
        "예를 들면 정해진 순서가 BAC 라면 A 다음 C가 쌓아져야 합니다.\n",
        "선행으로 쌓아야 하는 블럭이 만족된 경우라면 탑이 무너지지 않습니다.\n",
        "\n",
        "- B를 쌓지 않아도 A와 C를 쌓을 수 있습니다.\n",
        "- B 다음 블럭이 C가 될 수 있습니다.\n",
        "\n",
        "쌓아져 있는 블럭 탑이 순서에 맞게 쌓아져 있는지 확인하세요.\n",
        "\n",
        "1. 블럭은 알파벳 대문자로 표기합니다.\n",
        "2. 규칙에 없는 블럭이 사용될 수 있습니다.\n",
        "3. 중복된 블럭은 존재하지 않습니다.\n",
        " '''\n",
        "\n",
        " # solution)\n",
        "def solution(전체블록, 규칙):\n",
        "    answer = []\n",
        "    for 부분블록 in 전체블록:\n",
        "        answer.append(블록순서체크(부분블록, 규칙))\n",
        "    return answer\n",
        "\n",
        "def 블록순서체크(부분블록, 규칙):\n",
        "    임시변수 = 규칙.index(규칙[0])\n",
        "    for 문자 in 부분블록:\n",
        "        if 문자 in 규칙:\n",
        "            if 임시변수 > 규칙.index(문자):\n",
        "                return '불가능'\n",
        "            임시변수 = 규칙.index(문자)\n",
        "    return '가능'\n",
        "\n",
        "전체블록 = ['ABCDEF', 'BCAD', 'ADEFQRX', 'BEDFG', 'AEBFDGCH']\n",
        "규칙 = 'ABCD'\n",
        "\n",
        "print(solution(전체블록, 규칙))"
      ]
    },
    {
      "cell_type": "code",
      "source": [
        "# 67. 민규의 악수\n",
        "''' 광장에서 모인 사람들과 악수를 하는 행사가 열렸다.\n",
        "참가자인 민규는 몇명의 사람들과 악수를 한 후 중간에 일이 생겨 집으로 갔다.\n",
        "이 행사에서 진행된 악수는 총 n번이라고 했을때.\n",
        "\n",
        "민규는 몇번의 악수를 하고 집으로 돌아갔을까?\n",
        "이때 민규를 포함한 행사 참가자는 몇명일까?\n",
        "\n",
        "- 악수는 모두 1대 1로 진행이 된다.\n",
        "- 민규를 제외한 모든 참가자는 자신을 제외한 참가자와 모두 한번씩 악수를 한다.\n",
        "- 같은 상대와 중복된 악수는 카운트 하지 않는다.\n",
        "- 민규를 제외한 참가자는 행사를 모두 마쳤다.\n",
        "\n",
        "input : n (행사에서 진행된 악수 횟수)\n",
        "output : [ 민규의 악수횟수 , 행사참가자] '''\n",
        "\n",
        "def solution(n):\n",
        "    people = 0\n",
        "    total = 0\n",
        "    while(True):\n",
        "        total = people*(people-1)/2\n",
        "        if n<total:\n",
        "            break\n",
        "        people+=1\n",
        "    times = int(people-(total-n)-1)\n",
        "    return [times,people]\n",
        "solution(59)"
      ],
      "metadata": {
        "id": "uxOURmjdP68J"
      },
      "execution_count": null,
      "outputs": []
    },
    {
      "cell_type": "code",
      "source": [
        "# 68. 버스 시간표\n",
        "''' 학교가 끝난 지원이는 집에 가려고 합니다. 학교 앞에 있는 버스 시간표는 너무 복잡해서 버스 도착시간이 몇 분 남았는지 알려주는 프로그램을 만들고 싶습니다.\n",
        "버스시간표와 현재 시간이 주어졌을 때 버스 도착 시간이 얼마나 남았는지 알려주는 프로그램을 만들어주세요.\n",
        "\n",
        "- 버스 시간표와 현재시간이 입력으루 주어집니다.\n",
        "- 출력 포맷은 \"00시00분\"입니다.\n",
        "   만약 1시간 3분이 남았다면 \"01시간03분\"으로 출력해야 합니다.\n",
        "- 버스 시간표에 현재 시간보다 이전인 버스가 있다면 \"지나갔습니다.\"라고 출력합니다.\n",
        " '''\n",
        "# zfill(n) => n칸 만큼 앞을 0으로 채운다.\n",
        "def sol(tb, rt):\n",
        "    answer = []\n",
        "    rt = rt.split(':')\n",
        "    print(rt)\n",
        "    for i in range(len(tb)):\n",
        "        time = tb[i].split(':')\n",
        "        time_to_min = ((int(time[0])*60 + int(time[1])) - (int(rt[0])*60+int(rt[1])))\n",
        "        if time_to_min < 0:\n",
        "            answer.append(\"지나갔습니다\")\n",
        "        else:\n",
        "            a = (time_to_min) // 60\n",
        "            b = (time_to_min) % 60\n",
        "            answer.append(str(a).zfill(2)+'시간 '+str(b).zfill(2)+'분')\n",
        "    return answer\n",
        "\n",
        "sol([\"12:30\", \"13:20\", \"14:13\"], \"12:40\")"
      ],
      "metadata": {
        "id": "LUm15qNaQqZR"
      },
      "execution_count": null,
      "outputs": []
    },
    {
      "cell_type": "code",
      "source": [
        "# 69.골드바흐의 추측\n",
        "''' 골드바흐의 추측(Goldbach's conjecture)은 오래전부터 알려진 정수론의 미해결 문제로,\n",
        "2보다 큰 모든 짝수는 두 개의 소수(Prime number)의 합으로 표시할 수 있다는 것이다.\n",
        "이때 하나의 소수를 두 번 사용하는 것은 허용한다. - 위키백과\n",
        "\n",
        "위 설명에서 2보다 큰 모든 짝수를 두 소수의 합으로 나타낸 것을\n",
        "골드바흐 파티션이라고 합니다.\n",
        " '''\n",
        "\n",
        "# solution)\n",
        "def goldbah(n):\n",
        "    nums = [] # n보다 작은 소수들을 담을 리스트\n",
        "    # 소수를 구하는 반복문\n",
        "    for i in range(n+1):\n",
        "        count = 0\n",
        "        for j in range(1,i+1):\n",
        "            if i%j==0:\n",
        "                count+=1\n",
        "        if count == 2:\n",
        "            nums.append(i)\n",
        "    # 소수들의 합이 n이 되는 수를 구함\n",
        "    for i in range(0,len(nums)//2+1):\n",
        "        for j in nums:\n",
        "            if nums[i] + j == n:\n",
        "                print('{0} == {1} + {2}'.format(n, nums[i], j))\n",
        "\n",
        "goldbah(100)"
      ],
      "metadata": {
        "id": "LCpA2ouBYStR"
      },
      "execution_count": null,
      "outputs": []
    },
    {
      "cell_type": "code",
      "source": [
        "# 70. 행렬 곱하기\n",
        "\n",
        "'''행렬 2개가 주어졌을 때 곱할 수 있는 행렬인지 확인하고 곱할 수 있다면\n",
        "그 결과를, 곱할 수 없다면 -1을 출력하는 프로그램을 만들어주세요.  '''\n",
        "\n",
        "# solution)\n",
        "def sol(a, b):\n",
        "    c = []\n",
        "    if len(a) == len(b[0]):\n",
        "        for i in range(len(a)):\n",
        "            c.append([0]*len(b[0]))\n",
        "        for i in range(len(c)):\n",
        "            for j in range(len(c[i])):\n",
        "                for k in range(len(a[i])):\n",
        "                    c[i][j] += a[i][k] * b[k][j]\n",
        "        return c\n",
        "    else:\n",
        "        return -1\n",
        "\n",
        "a = ([1, 2], [2, 4])\n",
        "b = ([1, 0], [0, 3])\n",
        "sol(a,b)"
      ],
      "metadata": {
        "id": "PV-SsCk4H6iV"
      },
      "execution_count": null,
      "outputs": []
    }
  ]
}
