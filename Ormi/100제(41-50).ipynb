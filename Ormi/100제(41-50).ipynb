{
  "nbformat": 4,
  "nbformat_minor": 0,
  "metadata": {
    "colab": {
      "provenance": [],
      "authorship_tag": "ABX9TyMLmb8Nanqg0zP5oSa1RrsH",
      "include_colab_link": true
    },
    "kernelspec": {
      "name": "python3",
      "display_name": "Python 3"
    },
    "language_info": {
      "name": "python"
    }
  },
  "cells": [
    {
      "cell_type": "markdown",
      "metadata": {
        "id": "view-in-github",
        "colab_type": "text"
      },
      "source": [
        "<a href=\"https://colab.research.google.com/github/jkhwang150/CodingTest/blob/main/Ormi/100%EC%A0%9C(41_50).ipynb\" target=\"_parent\"><img src=\"https://colab.research.google.com/assets/colab-badge.svg\" alt=\"Open In Colab\"/></a>"
      ]
    },
    {
      "cell_type": "code",
      "execution_count": 2,
      "metadata": {
        "colab": {
          "base_uri": "https://localhost:8080/"
        },
        "id": "EcigofGIJzx3",
        "outputId": "a28a7c90-09fc-4f28-d246-c450fc7eb74e"
      },
      "outputs": [
        {
          "output_type": "stream",
          "name": "stdout",
          "text": [
            "4\n",
            "No\n"
          ]
        }
      ],
      "source": [
        "# 41. 소수 판별\n",
        "''' 숫자가 주어지면 **소수인지 아닌지 판별하는 프로그램**을 작성해주세요.\n",
        "소수이면 YES로, 소수가 아니면 NO로 출력해주세요.\n",
        "\n",
        "- 소수 : 1과 자기 자신만으로 나누어떨어지는 1보다 큰 양의 정수\n",
        "- 음의 소수는 고려하지 않습니다. '''\n",
        "\n",
        "# solution)\n",
        "num = int(input())\n",
        "count = 0\n",
        "for i in range(2,num):\n",
        "    if num  % i == 0:\n",
        "        count += 1\n",
        "if count == 0:\n",
        "    print('Yes')\n",
        "else:\n",
        "    print('No')"
      ]
    },
    {
      "cell_type": "code",
      "source": [
        "# 42. 요일 구하기\n",
        "''' 2020년 1월 1일은 수요일입니다. 2020년 a월 b일은 무슨 요일일까요?\n",
        "두 수 a, b를 입력받아 2020년 a월 b일이 무슨 요일인지 리턴하는 함수, solution을 완성하세요.\n",
        "요일의 이름은 일요일부터 토요일까지 각각 SUN, MON, TUE, WED, THU, FRI, SAT 입니다.\n",
        " '''\n",
        "\n",
        " # solution)\n",
        "import datetime\n",
        "a = int(input()) # 달\n",
        "b = int(input()) # 일\n",
        "day = [\"MON\",\"TUE\",\"WED\",\"THU\",\"FRI\",\"SAT\",\"SUN\"]\n",
        "\n",
        "print(day[datetime.date(2020, a, b).weekday()])"
      ],
      "metadata": {
        "colab": {
          "base_uri": "https://localhost:8080/"
        },
        "id": "6QLxGd7tKmly",
        "outputId": "3385bf65-1788-44a2-ecf4-069bc9a536a1"
      },
      "execution_count": 4,
      "outputs": [
        {
          "output_type": "stream",
          "name": "stdout",
          "text": [
            "3\n",
            "10\n",
            "TUE\n"
          ]
        }
      ]
    },
    {
      "cell_type": "code",
      "source": [
        "# 43. 10진수를 2진수로\n",
        "''' 우리가 흔히 사용하는 숫자 1, 8, 19, 28893 등등...은 10진수 체계입니다.\n",
        "이를 컴퓨터가 알아 들을 수 있는 2진수로 바꾸려고 합니다. 어떻게 해야할까요?\n",
        " 단, bin 함수를 사용하지 마시오.\n",
        " '''\n",
        "\n",
        "# solution)\n",
        "a = int(input())\n",
        "b = []\n",
        "\n",
        "while a:\n",
        "    b.append(str(a%2)) # 2로 나눴을 때 나머지를 b에 저장\n",
        "    a = int(a/2) # 2진수 이므로 2의 지수대로 나누어야 함\n",
        "b.reverse() # b에는 가장 큰 수부터 들어갔으므로 뒤집어 주어야함\n",
        "print(''.join(b))\n"
      ],
      "metadata": {
        "id": "9WIG4rSVL59Z"
      },
      "execution_count": null,
      "outputs": []
    },
    {
      "cell_type": "code",
      "source": [
        "# 44. 각 자리수의 합\n",
        "''' 사용자가 입력한 양의 정수의 각 자리수의 합을 구하는 프로그램을 만들어주세요 '''\n",
        "\n",
        "# solutio) 문자로 변환하여 리스트에 담은 후 정수형으로 변환하여 덧셈\n",
        "a = int(input())\n",
        "b = list(str(a))\n",
        "print(b)\n",
        "answer = 0\n",
        "for i in b:\n",
        "    answer += int(i)\n",
        "print(answer)\n",
        "\n",
        "# solution) map 함수 사용하기 - 한글자씩 리스트에 저\n",
        "n = list(map(int,input()))\n",
        "result = 0\n",
        "print(n)\n",
        "for i in n:\n",
        "    result += i\n",
        "print(result)"
      ],
      "metadata": {
        "colab": {
          "base_uri": "https://localhost:8080/"
        },
        "id": "UR4OBmePeO1s",
        "outputId": "941dac21-f8fc-4f2d-cbda-f8609cc53ccc"
      },
      "execution_count": 18,
      "outputs": [
        {
          "output_type": "stream",
          "name": "stdout",
          "text": [
            "12345\n",
            "['1', '2', '3', '4', '5']\n",
            "15\n",
            "12345\n",
            "[1, 2, 3, 4, 5]\n",
            "15\n"
          ]
        }
      ]
    },
    {
      "cell_type": "code",
      "source": [
        "# 45. time함수 사용하기\n",
        "''' python의 모듈 중 하나인 time 모듈은 1970년 1월 1일 0시 0분 0초 이후로부터\n",
        "지금까지 흐른 시간을 초단위로 반환합니다\n",
        "현재 년도를 출력하는 프로그램을 작성하시오.'''\n",
        "\n",
        "# solution)\n",
        "import time\n",
        "\n",
        "t = time.time()\n",
        "t = int(t//(3600*24*365))+1970\n",
        "print(t)"
      ],
      "metadata": {
        "colab": {
          "base_uri": "https://localhost:8080/"
        },
        "id": "6rBbuVy7fsG9",
        "outputId": "99ad9f43-b370-4293-f800-ee0f6c690be2"
      },
      "execution_count": 20,
      "outputs": [
        {
          "output_type": "stream",
          "name": "stdout",
          "text": [
            "2024\n"
          ]
        }
      ]
    },
    {
      "cell_type": "code",
      "source": [
        "# 46. str 자료형의 응용\n",
        "''' 1부터 100까지의(100을 포함) 모든 숫자를 일렬로 놓고 모든 자릿수의 총 합을 구하세요.  '''\n",
        "s = ''\n",
        "for i in range(1,101):\n",
        "    s += str(i)\n",
        "n = list(map(int,s))\n",
        "result = 0\n",
        "for i in n:\n",
        "    result+=i\n",
        "print(result)"
      ],
      "metadata": {
        "colab": {
          "base_uri": "https://localhost:8080/"
        },
        "id": "uQ6CF3szgCS_",
        "outputId": "ad2752fb-8c82-407f-ff58-c80b49242841"
      },
      "execution_count": 28,
      "outputs": [
        {
          "output_type": "stream",
          "name": "stdout",
          "text": [
            "901\n"
          ]
        }
      ]
    },
    {
      "cell_type": "code",
      "source": [
        "# 47.set 자료형의 응용\n",
        "''' 바울랩에서는 3월 29일 제주대학교에서 '제주 빅데이터 사회혁신 해커톤' 행사를 주최하게 되었습니다.\n",
        "    이에 구글 설문지를 배포하였으나 제주대학생들이 중복해서 n개씩 설문지를 제출하였습니다.\n",
        "    중복된 데이터들을 삭제하여 실제 접수 명단이 몇 명인지 알고 싶습니다. '''\n",
        "\n",
        "# solution)\n",
        "\n",
        "people = [\n",
        "         ('이호준', '01050442903'),\n",
        "         ('이호상', '01051442904'),\n",
        "         ('이준호', '01050342904'),\n",
        "         ('이호준', '01050442903'),\n",
        "         ('이준', '01050412904'),\n",
        "         ('이호', '01050443904'),\n",
        "         ('이호준', '01050442903'),\n",
        "         ]\n",
        "a = list(set(people))\n",
        "print(len(a))"
      ],
      "metadata": {
        "colab": {
          "base_uri": "https://localhost:8080/"
        },
        "id": "mamvwR6ZhPJ4",
        "outputId": "9ad9039f-f01c-4359-ffe2-24eb162920dc"
      },
      "execution_count": 31,
      "outputs": [
        {
          "output_type": "stream",
          "name": "stdout",
          "text": [
            "5\n"
          ]
        }
      ]
    },
    {
      "cell_type": "code",
      "source": [
        "# 48. 대소문자 바꿔서 출력하기\n",
        "''' 문자열이 주어지면 대문자와 소문자를 바꿔서 출력하는 프로그램을 작성하세요. '''\n",
        "\n",
        "# solution)\n",
        "s = input()\n",
        "answer = ''\n",
        "for i in s:\n",
        "    if 'a' <= i <= 'z': # i.islower() 메서드 사용가\n",
        "        answer+=(i.upper())\n",
        "    else:\n",
        "        answer+=(i.lower())\n",
        "print(answer)"
      ],
      "metadata": {
        "colab": {
          "base_uri": "https://localhost:8080/"
        },
        "id": "FUqGfGj7hpTH",
        "outputId": "d743729d-0b05-4c8d-9280-b22e5cc04a3f"
      },
      "execution_count": 35,
      "outputs": [
        {
          "output_type": "stream",
          "name": "stdout",
          "text": [
            "AAABBBcccddd\n",
            "aaabbbCCCDDD\n"
          ]
        }
      ]
    },
    {
      "cell_type": "code",
      "source": [
        "# 49. 최댓값 구하기\n",
        "''' 순서가 없는 10개의 숫자가 공백으로 구분되어 주어진다. 주어진 숫자들 중 최댓값을 반환하라. '''\n",
        "\n",
        "# solution)\n",
        "nums = list(map(int,input().split()))\n",
        "\n",
        "print(max(nums))"
      ],
      "metadata": {
        "colab": {
          "base_uri": "https://localhost:8080/"
        },
        "id": "cxhoKmfdiBrp",
        "outputId": "bbb198a1-527d-4276-b0ba-7f6699f4d9a8"
      },
      "execution_count": 39,
      "outputs": [
        {
          "output_type": "stream",
          "name": "stdout",
          "text": [
            "10 9 8 7 6 5 4 3 2 1\n",
            "10\n"
          ]
        }
      ]
    },
    {
      "cell_type": "code",
      "source": [
        "# 50. 버블정렬 구현하기\n",
        "''' 버블정렬은 두 인접한 원소를 검사하여 정렬하는 방법을 말합니다.\n",
        "시간 복잡도는 느리지만 코드가 단순하기 때문에 자주 사용됩니다. '''\n",
        "\n",
        "# solution)\n",
        "def bubble(n, data): # 숫자의 갯수와  숫자들을 입력 받음\n",
        "\tfor i in range(0,n-1): # 가장 앞의 수\n",
        "\t\tfor j in range(n-i-1): # 인접한 수들과 비교\n",
        "\t\t\tif data[j] > data[j+1]: # 정렬\n",
        "\t\t\t\tdata[j], data[j+1] = data[j+1], data[j]\n",
        "\tfor i in range(n):\n",
        "\t\tprint(data[i], end = \" \")\n",
        "\n",
        "n = int(input())\n",
        "data = list(map(int, input().split()))\n",
        "\n",
        "bubble(n, data)"
      ],
      "metadata": {
        "colab": {
          "base_uri": "https://localhost:8080/"
        },
        "id": "ndjGPKHZi5Hz",
        "outputId": "46d49f2c-a851-4177-82d9-4b842a8d0f90"
      },
      "execution_count": 42,
      "outputs": [
        {
          "output_type": "stream",
          "name": "stdout",
          "text": [
            "6\n",
            "3 5 7 9 1 2\n",
            "1 2 3 5 7 9 "
          ]
        }
      ]
    }
  ]
}
