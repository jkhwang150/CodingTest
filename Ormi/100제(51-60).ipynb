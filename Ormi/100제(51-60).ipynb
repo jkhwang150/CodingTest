{
  "nbformat": 4,
  "nbformat_minor": 0,
  "metadata": {
    "colab": {
      "provenance": [],
      "authorship_tag": "ABX9TyNPMXlk309xCk+OYUzFhqAD",
      "include_colab_link": true
    },
    "kernelspec": {
      "name": "python3",
      "display_name": "Python 3"
    },
    "language_info": {
      "name": "python"
    }
  },
  "cells": [
    {
      "cell_type": "markdown",
      "metadata": {
        "id": "view-in-github",
        "colab_type": "text"
      },
      "source": [
        "<a href=\"https://colab.research.google.com/github/jkhwang150/CodingTest/blob/main/Ormi/100%EC%A0%9C(51_60).ipynb\" target=\"_parent\"><img src=\"https://colab.research.google.com/assets/colab-badge.svg\" alt=\"Open In Colab\"/></a>"
      ]
    },
    {
      "cell_type": "code",
      "execution_count": null,
      "metadata": {
        "id": "VOIOv0ggmoZt"
      },
      "outputs": [],
      "source": [
        "# 51. merge sort\n",
        "#병합 정렬\n",
        "def 병합정렬(입력리스트):\n",
        "    입력리스트길이 = len(입력리스트)\n",
        "    if 입력리스트길이 <= 1:\n",
        "        return 입력리스트\n",
        "    중간값 = 입력리스트길이 // 2\n",
        "    그룹_하나 = 병합정렬(입력리스트[:중간값])\n",
        "    그룹_둘 = 병합정렬(입력리스트[중간값:])\n",
        "    결과값 = []\n",
        "\n",
        "    while 그룹_하나 and 그룹_둘:\n",
        "        if 그룹_하나[0] < 그룹_둘[0]:\n",
        "            결과값.append(그룹_하나.pop(0))\n",
        "        else:\n",
        "            결과값.append(그룹_둘.pop(0))\n",
        "\n",
        "    while 그룹_하나:\n",
        "        결과값.append(그룹_하나.pop(0))\n",
        "    while 그룹_둘:\n",
        "        결과값.append(그룹_둘.pop(0))\n",
        "    return 결과값\n",
        "\n",
        "주어진리스트 = input().split(' ')\n",
        "주어진리스트 = [int(i) for i in 주어진리스트]\n",
        "\n",
        "print(병합정렬(주어진리스트))"
      ]
    },
    {
      "cell_type": "code",
      "source": [
        "# 52.quick sort\n",
        "def 퀵정렬(입력리스트):\n",
        "    입력리스트의길이 = len(입력리스트)\n",
        "    if 입력리스트의길이 <= 1:\n",
        "        return 입력리스트\n",
        "    기준값 = 입력리스트.pop(입력리스트의길이//2)\n",
        "    그룹_하나 = []\n",
        "    그룹_둘 = []\n",
        "\n",
        "    for i in range(입력리스트의길이-1):\n",
        "        if 입력리스트[i] < 기준값:\n",
        "            그룹_하나.append(입력리스트[i])\n",
        "        else:\n",
        "            그룹_둘.append(입력리스트[i])\n",
        "    return 퀵정렬(그룹_하나) + [기준값] + 퀵정렬(그룹_둘)\n",
        "\n",
        "주어진리스트 = input().split(' ')\n",
        "주어진리스트 = [int(i) for i in 주어진리스트]\n",
        "\n",
        "print(퀵정렬(주어진리스트))"
      ],
      "metadata": {
        "id": "SW5Xh8nam_1Z"
      },
      "execution_count": null,
      "outputs": []
    },
    {
      "cell_type": "code",
      "source": [
        "# 53. 괄호 문자열\n",
        "''' 괄호 문자열이란 괄호 기호인 '{', '}', '[', ']', '(', ')' 와 같은 것을 말한다.\n",
        "그 중 괄호의 모양이 바르게 구성 된 문자열을 바른 문자열, 그렇지 않은 문자열을 바르지 않은 문자열이라 부르도록 하자.\n",
        "\n",
        "(())와 같은 문자열은 바른 문자열이지만 ()()) 와 같은 문자열은 바르지 않은 문자열이다.\n",
        "(해당 문제에서는 소괄호만 판별하지만, 실력이 되시는 분들은 중괄호와 대괄호까지 판별해보세요.)\n",
        "\n",
        "입력으로 주어진 괄호 문자열이 바른 문자열인지 바르지 않은 문자열인지 \"YES\"와 \"NO\"로 구분된 문자열을 출력해보자. '''\n",
        "\n",
        "\n",
        "# solution)\n",
        "def math(e):\n",
        "    if e.count('(') != e.count(')'):\n",
        "        return False\n",
        "    괄호 = []\n",
        "    for i in e:\n",
        "        if i == '(':\n",
        "            괄호.append('(')\n",
        "        if i == ')':\n",
        "            if len(괄호) == 0:\n",
        "                return False\n",
        "            괄호.pop()\n",
        "    return True\n",
        "\n",
        "n = input()\n",
        "if math(n) == True:\n",
        "\tprint(\"YES\")\n",
        "else:\n",
        "\tprint(\"NO\")"
      ],
      "metadata": {
        "id": "XTkxAtyynRL4"
      },
      "execution_count": null,
      "outputs": []
    },
    {
      "cell_type": "code",
      "source": [
        "# 54. 연속되는 수\n",
        "''' 스탬프에 적힌 숫자가 공백으로 구분되어 주어지면\n",
        "\n",
        "이 숫자가 연속수인지 아닌지 \"YES\"와 \"NO\"로 판별하는 프로그램을 작성하세요. '''\n",
        "\n",
        "# solution)\n",
        "\n",
        "def solution(n):\n",
        "    n.sort()\n",
        "    for i in range(1,len(n)):\n",
        "        if n[i-1] + 1 == n[i]:\n",
        "            continue\n",
        "        else:\n",
        "            return print('No')\n",
        "    return print('Yes')\n",
        "n = list(map(int,input().split(' ')))\n",
        "solution(n)"
      ],
      "metadata": {
        "id": "-acXa5CvolWd"
      },
      "execution_count": null,
      "outputs": []
    },
    {
      "cell_type": "code",
      "source": [
        "# 55. 하노이의 탑\n",
        "''' 하노이의 탑은 A, B, C 3개의 기둥과 기둥에 꽂을 수 있는 N개의 원판으로\n",
        "이루어져 있습니다. 이 게임에서 다음의 규칙을 만족해야 합니다.\n",
        "1. 처음에 모든 원판은 A기둥에 꽂혀 있다.\n",
        "2. 모든 원판의 지름은 다르다.\n",
        "3. 이 원반은 세 개의 기둥 중 하나에 반드시 꽂혀야 한다.\n",
        "4. 작은 원반 위에 큰 원반을 놓을 수 없다.\n",
        "5. 한 번에 하나의 원판(가장 위에 있는 원판) 만을 옮길 수 있다.\n",
        "'''\n",
        "\n",
        "# solution)\n",
        "\n"
      ],
      "metadata": {
        "id": "oMxFDSLgqF_5"
      },
      "execution_count": null,
      "outputs": []
    },
    {
      "cell_type": "code",
      "source": [
        "# 56. 리스트의 함수 응용\n",
        "''' 다음의 딕셔너리가 주어졌을 때 한국의 면적과 가장 비슷한 국가와 그 차이를 출력하세요. '''\n",
        "\n",
        "''' 데이터\n",
        "nationWidth = {\n",
        "     'korea': 220877,\n",
        "     'Rusia': 17098242,\n",
        "     'China': 9596961,\n",
        "     'France': 543965,\n",
        "     'Japan': 377915,\n",
        "     'England': 242900 }\n",
        "\n",
        "출력\n",
        "England 22023 '''\n",
        "\n",
        "\n",
        "# solution)\n",
        "nationWidth = {\n",
        "    'korea': 220877,\n",
        "    'Rusia': 17098242,\n",
        "    'China': 9596961,\n",
        "    'France': 543965,\n",
        "    'Japan': 377915,\n",
        "    'England': 242900 }\n",
        "w = nationWidth['korea'] # korea 면적 값을 저장\n",
        "nationWidth.pop('korea') # korea key-value 제거\n",
        "\n",
        "l = list(nationWidth.items()) # key값들 (items)를 l에 저장\n",
        "gap = max(nationWidth.values()) # ,면적의 최고값을 저장\n",
        "item = 0\n",
        "\n",
        "for i in l:\n",
        "    if gap > abs(i[1] - w): # 면적 차를 절대값으로 해서 차이를 비교하여 적다면 item에 저장\n",
        "        gap = abs(i[1] - w)\n",
        "        item = i\n",
        "print(item[0],item[1]-220877)"
      ],
      "metadata": {
        "id": "zu0Hm9qY9UZ5"
      },
      "execution_count": null,
      "outputs": []
    },
    {
      "cell_type": "code",
      "source": [
        "# 57.내장함수 응용하기\n",
        "''' 0부터 1000까지 1의 개수를 세는 프로그램을 만들려고 합니다.\n",
        "\n",
        "예를 들어 0부터 20까지 1의 개수를 세어본다면 1, 10 11, 12, 13, 14, 15, 16, 17, 18, 19 에 각각 1이 들어가므로\n",
        "12개의 1이 있게 됩니다. 11은 1이 2번 들어간 셈이죠.\n",
        "\n",
        "그렇다면 0부터 1000까지 수에서 1은 몇번이나 들어갔을까요? 출력해주세요! '''\n",
        "\n",
        "# solution)\n",
        "def count(n):\n",
        "\tcountN = str(list(range(n+1))).count('1') # n까지의 수를 문자열로 변환하여 1을 카운트\n",
        "\treturn countN\n",
        "\n",
        "print(count(1000))"
      ],
      "metadata": {
        "id": "-_fsRkYHLRxe"
      },
      "execution_count": null,
      "outputs": []
    },
    {
      "cell_type": "code",
      "source": [
        "# 58. 콤마 찍기\n",
        "''' 원범이는 편의점 아르바이트가 끝난 후 정산을 하고자 합니다.\n",
        "정산을 빨리하고 집에가고 싶은 원범이는 프로그램을 만들려고 합니다.\n",
        "\n",
        "**숫자를 입력 받고 천단위로 콤마(,)를 찍어주세요.**\n",
        "\n",
        "예를들어, 123456789를 입력받았으면 123,456,789 를 출력해야합니다. '''\n",
        "\n",
        "# solution\n",
        "def coma(n):\n",
        "    s = []\n",
        "    count = 0\n",
        "    for i in str(n):\n",
        "        s.append(i)\n",
        "        count+=1\n",
        "        if count%3==0:\n",
        "            s.append(',')\n",
        "    return ''.join(s).rstrip(',')\n",
        "\n",
        "num = int(input())\n",
        "print(coma(num))\n"
      ],
      "metadata": {
        "id": "sNYgiu4BLpIK"
      },
      "execution_count": null,
      "outputs": []
    },
    {
      "cell_type": "code",
      "source": [
        "# 59. 빈칸채우기\n",
        "\n",
        "''' 총 문자열의 길이는 50으로 제한하고 사용자가 문자열을 입력하면\n",
        "\n",
        "그 문자열을 가운데 정렬을 해주고, 나머지 빈 부분에는 '='을 채워넣어주세요. '''\n",
        "\n",
        "# solution) 0:(공백을 채울 문자) ^(가운데 정렬) <(왼쪽) >(오른쪽) 문자열 길이\n",
        "s = input()\n",
        "print(\"{0:=^50}\".format(s))"
      ],
      "metadata": {
        "id": "u-cFYt6_NTxY"
      },
      "execution_count": null,
      "outputs": []
    },
    {
      "cell_type": "code",
      "source": [
        "# 60.enumerate\n",
        "''' 새학기가 되어 이름을 가나다 순서대로 배정하고 번호를 매기려고 합니다.\n",
        "코드에 입력된 이름을 아래와 같이 출력해주세요.\n",
        " '''\n",
        "students = ['강은지','김유정','박현서','최성훈','홍유진','박지호','권윤일','김채리','한지호','김진이','김민호','강채연']\n",
        "\n",
        "# solution) for 변호,이름 in enumerate(list)\n",
        "\n",
        "students = sorted(students)\n",
        "\n",
        "for number, name in enumerate(students):\n",
        "    print(\"번호: {}, 이름: {}\".format(number+1, name))"
      ],
      "metadata": {
        "id": "mEWWEORnOB1t"
      },
      "execution_count": null,
      "outputs": []
    }
  ]
}
