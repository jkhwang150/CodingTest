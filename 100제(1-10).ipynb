{
  "nbformat": 4,
  "nbformat_minor": 0,
  "metadata": {
    "colab": {
      "provenance": [],
      "toc_visible": true,
      "authorship_tag": "ABX9TyPtNcL965o4nO/TmsP5YsGZ",
      "include_colab_link": true
    },
    "kernelspec": {
      "name": "python3",
      "display_name": "Python 3"
    },
    "language_info": {
      "name": "python"
    }
  },
  "cells": [
    {
      "cell_type": "markdown",
      "metadata": {
        "id": "view-in-github",
        "colab_type": "text"
      },
      "source": [
        "<a href=\"https://colab.research.google.com/github/jkhwang150/CodingTest/blob/main/100%EC%A0%9C(1-10).ipynb\" target=\"_parent\"><img src=\"https://colab.research.google.com/assets/colab-badge.svg\" alt=\"Open In Colab\"/></a>"
      ]
    },
    {
      "cell_type": "code",
      "execution_count": null,
      "metadata": {
        "colab": {
          "base_uri": "https://localhost:8080/"
        },
        "id": "3iaysdfuh4Gy",
        "outputId": "8d55f622-8b73-46f9-d8cd-55f62e24abd4"
      },
      "outputs": [
        {
          "output_type": "stream",
          "name": "stdout",
          "text": [
            "[100, 200, 300]\n"
          ]
        }
      ],
      "source": [
        "# 1. 리스트의 삭제\n",
        "## 다음 리스트에서 400, 500를 삭제하는 code를 입력하세요.\n",
        "\n",
        "nums = [100,200,300,400,500]\n",
        "\n",
        "## solution\n",
        "nums.remove(400)\n",
        "nums.remove(500)\n",
        "print(nums)"
      ]
    },
    {
      "cell_type": "code",
      "source": [
        "# 2. 리스트의 내장함수\n",
        "# 내장함수 insert를 이용하여 다음과 같이 출력되게 하세요\n",
        "l = [200,100,300]\n",
        "[200,100,10000,300]\n",
        "\n",
        "## solution\n",
        "l.insert(2,10000)\n",
        "print(l)"
      ],
      "metadata": {
        "colab": {
          "base_uri": "https://localhost:8080/"
        },
        "id": "CbINYaEsnno0",
        "outputId": "15ebf283-2269-4438-c526-f86050d2f55a"
      },
      "execution_count": null,
      "outputs": [
        {
          "output_type": "stream",
          "name": "stdout",
          "text": [
            "[200, 100, 10000, 300]\n"
          ]
        }
      ]
    },
    {
      "cell_type": "code",
      "source": [
        "# 3. 변수의 타입\n",
        "## 다음 출력 값으로 올바른 것은?\n",
        "l = [100,200,300]\n",
        "print(type(l))\n",
        "\n",
        "## 보기 [list, int, list, tuple]\n",
        "\n",
        "# solution) class'list'"
      ],
      "metadata": {
        "colab": {
          "base_uri": "https://localhost:8080/"
        },
        "id": "uKLp9LEkoMqz",
        "outputId": "5a4f6cd8-e6b6-4058-f367-6d65c1bf3b05"
      },
      "execution_count": null,
      "outputs": [
        {
          "output_type": "stream",
          "name": "stdout",
          "text": [
            "<class 'list'>\n"
          ]
        }
      ]
    },
    {
      "cell_type": "code",
      "source": [
        "# 4. 변수의 타입 2\n",
        "'''\n",
        "다음 변수 a를 print(type(a))로 넣었을 때 출력될 값과의 연결이 알맞지 않은 것은?\n",
        "\n",
        "1)  입력 : a =1,   출력 : class 'int'\n",
        "\n",
        "2)  입력 : a = 2.22,   출력 : class 'float'\n",
        "\n",
        "3)  입력 : a = 'p',   출력 : class 'char'\n",
        "\n",
        "4)  입력 : a = [1, 2, 3],   출력 : class 'list'\n",
        "'''\n",
        "\n",
        "# solution) c => class'str'"
      ],
      "metadata": {
        "colab": {
          "base_uri": "https://localhost:8080/"
        },
        "id": "koSfURHDxKtF",
        "outputId": "4f07b5d6-95c2-4f4e-e20d-5b6f0a7307d9"
      },
      "execution_count": null,
      "outputs": [
        {
          "output_type": "stream",
          "name": "stdout",
          "text": [
            "<class 'str'>\n"
          ]
        }
      ]
    },
    {
      "cell_type": "code",
      "source": [
        "# 5. for문 계산\n",
        "'''\n",
        "다음 코드의 출력 값으로 알맞은 것은?\n",
        "\n",
        "a = 10\n",
        "b = 2\n",
        "for i in range(1, 5, 2):\n",
        "    a += i\n",
        "\n",
        "print(a + b)\n",
        "'''\n",
        "\n",
        "# solution) 10 + 1 + 3 + 2(b) =  16"
      ],
      "metadata": {
        "colab": {
          "base_uri": "https://localhost:8080/"
        },
        "id": "fgrWOSpPxy-f",
        "outputId": "ee776aec-742b-4a9a-fa15-8983654fe16d"
      },
      "execution_count": null,
      "outputs": [
        {
          "output_type": "stream",
          "name": "stdout",
          "text": [
            "16\n"
          ]
        }
      ]
    },
    {
      "cell_type": "code",
      "source": [
        "# 6. False\n",
        "'''\n",
        "다음은 파이썬 문법 중에서 False로 취급하는 것들 입니다.\n",
        "앗, False로 취급하지 않는 것이 하나 있네요! True를 찾아주세요.\n",
        "\n",
        "1)  None\n",
        "2)  1\n",
        "3)  \"\"\n",
        "4)  0\n",
        "5)  bool(0)\n",
        "'''\n",
        "\n",
        "# solution) 1은 True"
      ],
      "metadata": {
        "id": "7oCeReJ14A5F"
      },
      "execution_count": null,
      "outputs": []
    },
    {
      "cell_type": "code",
      "source": [
        "# 7. 변수명\n",
        "'''\n",
        "다음 중 변수명으로 사용할 수 없는 것 2개를 고르시오.\n",
        "\n",
        "1)  age\n",
        "2)  a\n",
        "3)  as\n",
        "4)  _age\n",
        "5)  1age\n",
        "'''\n",
        "\n",
        "# solution) 3,4 / 메서드명 불가능, 숫자로 시작하면 사용 불가능"
      ],
      "metadata": {
        "colab": {
          "base_uri": "https://localhost:8080/",
          "height": 110
        },
        "id": "G3J-Tp_r0YoG",
        "outputId": "32a7e589-8266-4ee6-8c7b-f9c2701f48d5"
      },
      "execution_count": null,
      "outputs": [
        {
          "output_type": "error",
          "ename": "SyntaxError",
          "evalue": "invalid syntax (<ipython-input-1-4097ab748132>, line 13)",
          "traceback": [
            "\u001b[0;36m  File \u001b[0;32m\"<ipython-input-1-4097ab748132>\"\u001b[0;36m, line \u001b[0;32m13\u001b[0m\n\u001b[0;31m    as =1\u001b[0m\n\u001b[0m    ^\u001b[0m\n\u001b[0;31mSyntaxError\u001b[0m\u001b[0;31m:\u001b[0m invalid syntax\n"
          ]
        }
      ]
    },
    {
      "cell_type": "code",
      "source": [
        "# 8.딕셔너리 키 이름 중복\n",
        "'''\n",
        "딕셔너리를 다음과 같이 만들었다.\n",
        "출력값을 입력하시오. (출력값은 공백을 넣지 않습니다. )\n",
        " '''\n",
        "d = {'height':180,'weight':78,'weight':84,'temparture':36,'eyesight':1}\n",
        "print(d['weight'])\n",
        "\n",
        "# solution) weight의 value는 84이다."
      ],
      "metadata": {
        "colab": {
          "base_uri": "https://localhost:8080/"
        },
        "id": "9x_tsvHa0337",
        "outputId": "27a35252-460f-4cf0-b3b5-8e1c508f92e2"
      },
      "execution_count": null,
      "outputs": [
        {
          "output_type": "stream",
          "name": "stdout",
          "text": [
            "84\n"
          ]
        }
      ]
    },
    {
      "cell_type": "code",
      "source": [
        "# 9.sep과 end를활용한 출력방법\n",
        "''' 다음 소스 코드를 완성하여 날짜와 시간을 출력하시오. '''\n",
        "year = '2019'\n",
        "month = '04'\n",
        "day = '26'\n",
        "hour = '11'\n",
        "minute = '34'\n",
        "second = '27'\n",
        "\n",
        "print(year, month, day, )\n",
        "print(hour, minute, second, )\n",
        "''' 2019/04/26 11:34:27 '''\n",
        "\n",
        "# solution\n",
        "print(year, month, day, sep='/', end =' ')\n",
        "print(hour,minute,second, sep=':')"
      ],
      "metadata": {
        "colab": {
          "base_uri": "https://localhost:8080/"
        },
        "id": "_KuR9x4Q1ohF",
        "outputId": "31f8e881-b2b4-4dd6-a624-e07014aef4fe"
      },
      "execution_count": null,
      "outputs": [
        {
          "output_type": "stream",
          "name": "stdout",
          "text": [
            "2019 04 26\n",
            "11 34 27\n",
            "2019/04/26 11:34:27\n"
          ]
        }
      ]
    },
    {
      "cell_type": "code",
      "source": [
        "# 10. 별찍기\n",
        "''' 크리스마스 날, 은비는 친구들과 함께 파티를 하기로 했습니다. 그런데, 크리스마스 트리를 사는 것을 깜빡하고 말았습니다. 온 가게를 돌아다녀 봤지만 크리스마스 트리는 모두 품절이었습니다.\n",
        "하는 수 없이 은비는 프로그래밍으로 트리를 만들기로 합니다.\n",
        "\n",
        "은비를 위해 프로그램을 작성해 주세요. '''\n",
        "\n",
        "### 입출력 예시\n",
        "\n",
        "''' >> 입력\n",
        "5\n",
        "\n",
        ">> 출력\n",
        "    *\n",
        "   ***\n",
        "  *****\n",
        " *******\n",
        "*********\n",
        "'''\n",
        "# solution\n",
        "n = int(input())\n",
        "for i in range(1,n+1):\n",
        "\tprint(\" \"*(n-i)+(\"*\"*(2*i-1)))\n"
      ],
      "metadata": {
        "id": "RBpGe-Ze2Iex",
        "colab": {
          "base_uri": "https://localhost:8080/"
        },
        "outputId": "f71216df-15c8-4a7c-ba6d-b1863f1d69a1"
      },
      "execution_count": 1,
      "outputs": [
        {
          "output_type": "stream",
          "name": "stdout",
          "text": [
            "5\n",
            "    *\n",
            "   ***\n",
            "  *****\n",
            " *******\n",
            "*********\n"
          ]
        }
      ]
    }
  ]
}